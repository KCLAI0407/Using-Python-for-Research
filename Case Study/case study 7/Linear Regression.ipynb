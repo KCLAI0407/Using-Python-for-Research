{
 "cells": [
  {
   "cell_type": "markdown",
   "id": "fcd195f9",
   "metadata": {},
   "source": [
    "## Generating Example Regression Data"
   ]
  },
  {
   "cell_type": "code",
   "execution_count": 1,
   "id": "6e0a6d35",
   "metadata": {},
   "outputs": [],
   "source": [
    "import numpy as np\n",
    "import scipy.stats as ss\n",
    "import matplotlib.pyplot as plt"
   ]
  },
  {
   "cell_type": "code",
   "execution_count": 55,
   "id": "0f963f6c",
   "metadata": {},
   "outputs": [],
   "source": [
    "n=100\n",
    "beta_0=5\n",
    "beta_1=2\n",
    "np.random.seed(1)\n",
    "x=10*ss.uniform.rvs(size=n)  ## ss.uniform.rvs(size=n): generate random variables from 0-1 distribution\n",
    "y=beta_0+beta_1*x+ss.norm.rvs(loc=0,scale=1,size=n) ## loc mean means and scale means s.d."
   ]
  },
  {
   "cell_type": "code",
   "execution_count": 56,
   "id": "68c375c2",
   "metadata": {},
   "outputs": [
    {
     "data": {
      "text/plain": [
       "Text(0, 0.5, 'y')"
      ]
     },
     "execution_count": 56,
     "metadata": {},
     "output_type": "execute_result"
    },
    {
     "data": {
      "image/png": "[encoded data removed]",
      "text/plain": [
       "<Figure size 640x480 with 1 Axes>"
      ]
     },
     "metadata": {},
     "output_type": "display_data"
    }
   ],
   "source": [
    "plt.figure()\n",
    "plt.plot(x,y,\"o\",ms=5)\n",
    "xx=np.array([0,10])\n",
    "plt.plot(xx,beta_0+beta_1*xx)\n",
    "plt.xlabel(\"x\")\n",
    "plt.ylabel(\"y\")"
   ]
  },
  {
   "cell_type": "code",
   "execution_count": 57,
   "id": "f5d1187d",
   "metadata": {},
   "outputs": [
    {
     "data": {
      "text/plain": [
       "(4.8587792760014565, 14.80142786070299)"
      ]
     },
     "execution_count": 57,
     "metadata": {},
     "output_type": "execute_result"
    }
   ],
   "source": [
    "(np.mean(x),np.mean(y))"
   ]
  },
  {
   "cell_type": "markdown",
   "id": "5b04e1ba",
   "metadata": {},
   "source": [
    "## Simple Linear Regression"
   ]
  },
  {
   "cell_type": "markdown",
   "id": "12a127e5",
   "metadata": {},
   "source": [
    "Y=$\\beta_0$+$\\beta_1$X+$\\varepsilon$, where $\\varepsilon$ is the error term. The captial letters always corresponds to the random variables. Once we have used the training data to predict $\\hat{\\beta_0}$ and $\\hat{\\beta_1}$, for the model coefficients, we can predict future value of Y."
   ]
  },
  {
   "cell_type": "markdown",
   "id": "fff178cd",
   "metadata": {},
   "source": [
    "predicted value:$\\hat{y}$=$\\hat{\\beta_0}$+$\\hat{\\beta_1}$x. $\\hat{y}$ indicates a prediction, or a specific value, of the random variable Y on the basis of the specific value where X is equal to x. The hat of the Beta, they indicate that these are parameter estimates. meaning that their parameter values that have been estimated using data."
   ]
  },
  {
   "cell_type": "markdown",
   "id": "217ef6ba",
   "metadata": {},
   "source": [
    "$(x_1,y_1),(x_2,y_2),...,(x_n,y_n)$. the error: $e_i=y_i-\\hat{y}_i$. $RSS=e_{1}^2+e_{2}^2+...+e_{n}^2$"
   ]
  },
  {
   "cell_type": "code",
   "execution_count": 9,
   "id": "3e468b9e",
   "metadata": {},
   "outputs": [],
   "source": [
    "def compute_rss(y_estimate, y):\n",
    "    return sum(np.power(y-y_estimate, 2))\n",
    "def estimate_y(x, b_0, b_1):\n",
    "    return b_0 + b_1 * x\n"
   ]
  },
  {
   "cell_type": "code",
   "execution_count": 10,
   "id": "b213c153",
   "metadata": {},
   "outputs": [],
   "source": [
    "rss = compute_rss(estimate_y(x, beta_0, beta_1), y)"
   ]
  },
  {
   "cell_type": "code",
   "execution_count": 11,
   "id": "6c03a5ce",
   "metadata": {},
   "outputs": [
    {
     "data": {
      "text/plain": [
       "81.540007425512"
      ]
     },
     "execution_count": 11,
     "metadata": {},
     "output_type": "execute_result"
    }
   ],
   "source": [
    "rss"
   ]
  },
  {
   "cell_type": "markdown",
   "id": "97f31a8a",
   "metadata": {},
   "source": [
    "## Least Squares Estimation in Code"
   ]
  },
  {
   "cell_type": "markdown",
   "id": "5ff7375c",
   "metadata": {},
   "source": [
    "### An additional note on this video:\n",
    "Note that in this case, the estimated value of the parameter (2.0) coincides with the true value of the parameter. Generally, we do not know the underlying true value, but here it is known to us because we generated the data ourselves. In practical settings, the estimated parameter value may not always match the true value."
   ]
  },
  {
   "cell_type": "code",
   "execution_count": 18,
   "id": "31cc3c05",
   "metadata": {},
   "outputs": [],
   "source": [
    "rss=[]\n",
    "slopes=np.arange(-10,15,0.001)\n",
    "for slope in slopes:\n",
    "    rss.append(np.sum((y-beta_0-slope*x)**2)) ## asssume we know exactly beta_0\n",
    "    "
   ]
  },
  {
   "cell_type": "code",
   "execution_count": 19,
   "id": "75c5b615",
   "metadata": {},
   "outputs": [
    {
     "data": {
      "text/plain": [
       "[465163.6265980302,\n",
       " 465086.1430283995,\n",
       " 465008.6659137614,\n",
       " 464931.1952541162,\n",
       " 464853.73104946373,\n",
       " 464776.273299804,\n",
       " 464698.82200513716,\n",
       " 464621.37716546294,\n",
       " 464543.9387807815,\n",
       " 464466.5068510928,\n",
       " 464389.08137639693,\n",
       " 464311.6623566938,\n",
       " 464234.2497919835,\n",
       " 464156.8436822659,\n",
       " 464079.44402754103,\n",
       " 464002.05082780897,\n",
       " 463924.6640830696,\n",
       " 463847.2837933231,\n",
       " 463769.9099585693,\n",
       " 463692.5425788083,\n",
       " 463615.18165404,\n",
       " 463537.82718426455,\n",
       " 463460.47916948184,\n",
       " 463383.1376096919,\n",
       " 463305.80250489456,\n",
       " 463228.4738550901,\n",
       " 463151.1516602785,\n",
       " 463073.83592045953,\n",
       " 462996.5266356335,\n",
       " 462919.2238058001,\n",
       " 462841.92743095936,\n",
       " 462764.6375111115,\n",
       " 462687.3540462564,\n",
       " 462610.0770363941,\n",
       " 462532.80648152455,\n",
       " 462455.54238164774,\n",
       " 462378.28473676357,\n",
       " 462301.0335468723,\n",
       " 462223.7888119739,\n",
       " 462146.5505320681,\n",
       " 462069.31870715506,\n",
       " 461992.0933372348,\n",
       " 461914.8744223074,\n",
       " 461837.66196237254,\n",
       " 461760.45595743065,\n",
       " 461683.2564074815,\n",
       " 461606.06331252505,\n",
       " 461528.8766725614,\n",
       " 461451.69648759044,\n",
       " 461374.52275761246,\n",
       " 461297.35548262706,\n",
       " 461220.1946626344,\n",
       " 461143.0402976346,\n",
       " 461065.8923876275,\n",
       " 460988.7509326131,\n",
       " 460911.6159325916,\n",
       " 460834.48738756275,\n",
       " 460757.36529752676,\n",
       " 460680.2496624835,\n",
       " 460603.14048243297,\n",
       " 460526.0377573752,\n",
       " 460448.94148731034,\n",
       " 460371.85167223815,\n",
       " 460294.76831215865,\n",
       " 460217.6914070719,\n",
       " 460140.620956978,\n",
       " 460063.5569618768,\n",
       " 459986.4994217685,\n",
       " 459909.4483366528,\n",
       " 459832.40370652993,\n",
       " 459755.3655313999,\n",
       " 459678.33381126245,\n",
       " 459601.30854611786,\n",
       " 459524.28973596613,\n",
       " 459447.27738080703,\n",
       " 459370.27148064075,\n",
       " 459293.2720354672,\n",
       " 459216.2790452864,\n",
       " 459139.2925100985,\n",
       " 459062.3124299032,\n",
       " 458985.33880470064,\n",
       " 458908.3716344909,\n",
       " 458831.4109192739,\n",
       " 458754.4566590498,\n",
       " 458677.5088538183,\n",
       " 458600.5675035798,\n",
       " 458523.63260833384,\n",
       " 458446.7041680807,\n",
       " 458369.78218282026,\n",
       " 458292.8666525527,\n",
       " 458215.95757727785,\n",
       " 458139.0549569957,\n",
       " 458062.15879170643,\n",
       " 457985.26908140985,\n",
       " 457908.38582610607,\n",
       " 457831.50902579504,\n",
       " 457754.6386804768,\n",
       " 457677.77479015116,\n",
       " 457600.91735481843,\n",
       " 457524.06637447845,\n",
       " 457447.2218491313,\n",
       " 457370.3837787768,\n",
       " 457293.5521634151,\n",
       " 457216.7270030462,\n",
       " 457139.90829766996,\n",
       " 457063.09604728664,\n",
       " 456986.29025189596,\n",
       " 456909.49091149814,\n",
       " 456832.698026093,\n",
       " 456755.91159568063,\n",
       " 456679.13162026106,\n",
       " 456602.3580998342,\n",
       " 456525.59103440004,\n",
       " 456448.83042395883,\n",
       " 456372.07626851025,\n",
       " 456295.32856805454,\n",
       " 456218.5873225916,\n",
       " 456141.8525321212,\n",
       " 456065.1241966438,\n",
       " 455988.402316159,\n",
       " 455911.6868906671,\n",
       " 455834.97792016785,\n",
       " 455758.27540466154,\n",
       " 455681.5793441478,\n",
       " 455604.8897386269,\n",
       " 455528.20658809866,\n",
       " 455451.52989256335,\n",
       " 455374.8596520207,\n",
       " 455298.1958664709,\n",
       " 455221.5385359138,\n",
       " 455144.8876603494,\n",
       " 455068.2432397779,\n",
       " 454991.6052741991,\n",
       " 454914.97376361315,\n",
       " 454838.3487080197,\n",
       " 454761.7301074192,\n",
       " 454685.1179618115,\n",
       " 454608.51227119647,\n",
       " 454531.91303557425,\n",
       " 454455.32025494485,\n",
       " 454378.73392930813,\n",
       " 454302.15405866416,\n",
       " 454225.58064301295,\n",
       " 454149.0136823546,\n",
       " 454072.45317668887,\n",
       " 453995.8991260161,\n",
       " 453919.35153033596,\n",
       " 453842.81038964854,\n",
       " 453766.2757039539,\n",
       " 453689.7474732521,\n",
       " 453613.225697543,\n",
       " 453536.71037682676,\n",
       " 453460.20151110314,\n",
       " 453383.69910037244,\n",
       " 453307.2031446344,\n",
       " 453230.71364388906,\n",
       " 453154.23059813667,\n",
       " 453077.75400737696,\n",
       " 453001.28387161,\n",
       " 452924.8201908357,\n",
       " 452848.36296505434,\n",
       " 452771.9121942655,\n",
       " 452695.4678784697,\n",
       " 452619.0300176665,\n",
       " 452542.59861185617,\n",
       " 452466.17366103857,\n",
       " 452389.75516521366,\n",
       " 452313.3431243816,\n",
       " 452236.9375385422,\n",
       " 452160.53840769565,\n",
       " 452084.14573184185,\n",
       " 452007.75951098074,\n",
       " 451931.37974511244,\n",
       " 451855.00643423694,\n",
       " 451778.6395783542,\n",
       " 451702.2791774642,\n",
       " 451625.925231567,\n",
       " 451549.57774066244,\n",
       " 451473.2367047508,\n",
       " 451396.90212383185,\n",
       " 451320.57399790565,\n",
       " 451244.25232697226,\n",
       " 451167.9371110316,\n",
       " 451091.6283500837,\n",
       " 451015.3260441286,\n",
       " 450939.0301931662,\n",
       " 450862.74079719663,\n",
       " 450786.4578562197,\n",
       " 450710.1813702357,\n",
       " 450633.91133924446,\n",
       " 450557.6477632458,\n",
       " 450481.39064224,\n",
       " 450405.139976227,\n",
       " 450328.8957652067,\n",
       " 450252.65800917917,\n",
       " 450176.42670814454,\n",
       " 450100.20186210255,\n",
       " 450023.98347105336,\n",
       " 449947.7715349968,\n",
       " 449871.56605393323,\n",
       " 449795.3670278623,\n",
       " 449719.1744567841,\n",
       " 449642.98834069865,\n",
       " 449566.8086796061,\n",
       " 449490.63547350623,\n",
       " 449414.46872239903,\n",
       " 449338.30842628476,\n",
       " 449262.15458516317,\n",
       " 449186.00719903427,\n",
       " 449109.86626789835,\n",
       " 449033.731791755,\n",
       " 448957.6037706045,\n",
       " 448881.4822044467,\n",
       " 448805.3670932817,\n",
       " 448729.2584371094,\n",
       " 448653.1562359299,\n",
       " 448577.0604897433,\n",
       " 448500.97119854926,\n",
       " 448424.8883623481,\n",
       " 448348.81198113976,\n",
       " 448272.742054924,\n",
       " 448196.67858370114,\n",
       " 448120.621567471,\n",
       " 448044.57100623363,\n",
       " 447968.52689998905,\n",
       " 447892.4892487372,\n",
       " 447816.4580524781,\n",
       " 447740.43331121176,\n",
       " 447664.41502493824,\n",
       " 447588.4031936574,\n",
       " 447512.3978173693,\n",
       " 447436.39889607404,\n",
       " 447360.40642977157,\n",
       " 447284.4204184618,\n",
       " 447208.4408621449,\n",
       " 447132.46776082064,\n",
       " 447056.5011144892,\n",
       " 446980.54092315055,\n",
       " 446904.5871868047,\n",
       " 446828.63990545145,\n",
       " 446752.699079091,\n",
       " 446676.76470772334,\n",
       " 446600.8367913485,\n",
       " 446524.91532996634,\n",
       " 446449.000323577,\n",
       " 446373.09177218034,\n",
       " 446297.18967577664,\n",
       " 446221.2940343655,\n",
       " 446145.4048479473,\n",
       " 446069.5221165218,\n",
       " 445993.64584008895,\n",
       " 445917.7760186489,\n",
       " 445841.91265220166,\n",
       " 445766.0557407472,\n",
       " 445690.2052842855,\n",
       " 445614.36128281656,\n",
       " 445538.52373634034,\n",
       " 445462.6926448569,\n",
       " 445386.8680083662,\n",
       " 445311.0498268683,\n",
       " 445235.2381003632,\n",
       " 445159.43282885075,\n",
       " 445083.6340123312,\n",
       " 445007.84165080433,\n",
       " 444932.05574427027,\n",
       " 444856.27629272884,\n",
       " 444780.50329618034,\n",
       " 444704.7367546245,\n",
       " 444628.9766680616,\n",
       " 444553.22303649125,\n",
       " 444477.4758599137,\n",
       " 444401.735138329,\n",
       " 444326.00087173696,\n",
       " 444250.27306013776,\n",
       " 444174.55170353124,\n",
       " 444098.8368019175,\n",
       " 444023.1283552966,\n",
       " 443947.4263636685,\n",
       " 443871.730827033,\n",
       " 443796.04174539045,\n",
       " 443720.3591187406,\n",
       " 443644.6829470834,\n",
       " 443569.0132304191,\n",
       " 443493.3499687474,\n",
       " 443417.69316206867,\n",
       " 443342.0428103826,\n",
       " 443266.39891368925,\n",
       " 443190.7614719887,\n",
       " 443115.13048528094,\n",
       " 443039.5059535659,\n",
       " 442963.88787684374,\n",
       " 442888.27625511424,\n",
       " 442812.6710883774,\n",
       " 442737.0723766334,\n",
       " 442661.4801198822,\n",
       " 442585.89431812376,\n",
       " 442510.3149713581,\n",
       " 442434.74207958527,\n",
       " 442359.1756428051,\n",
       " 442283.61566101783,\n",
       " 442208.0621342231,\n",
       " 442132.5150624212,\n",
       " 442056.974445612,\n",
       " 441981.4402837958,\n",
       " 441905.9125769722,\n",
       " 441830.3913251414,\n",
       " 441754.8765283033,\n",
       " 441679.3681864581,\n",
       " 441603.8662996056,\n",
       " 441528.3708677458,\n",
       " 441452.8818908788,\n",
       " 441377.39936900465,\n",
       " 441301.92330212315,\n",
       " 441226.45369023434,\n",
       " 441150.99053333845,\n",
       " 441075.53383143526,\n",
       " 441000.08358452487,\n",
       " 440924.6397926073,\n",
       " 440849.20245568233,\n",
       " 440773.77157375024,\n",
       " 440698.34714681085,\n",
       " 440622.92917486414,\n",
       " 440547.5176579104,\n",
       " 440472.1125959493,\n",
       " 440396.713988981,\n",
       " 440321.3218370055,\n",
       " 440245.9361400227,\n",
       " 440170.55689803266,\n",
       " 440095.18411103537,\n",
       " 440019.81777903094,\n",
       " 439944.4579020192,\n",
       " 439869.1044800002,\n",
       " 439793.757512974,\n",
       " 439718.4170009406,\n",
       " 439643.08294389985,\n",
       " 439567.75534185185,\n",
       " 439492.4341947968,\n",
       " 439417.1195027344,\n",
       " 439341.8112656647,\n",
       " 439266.50948358787,\n",
       " 439191.2141565038,\n",
       " 439115.92528441246,\n",
       " 439040.6428673139,\n",
       " 438965.366905208,\n",
       " 438890.097398095,\n",
       " 438814.8343459748,\n",
       " 438739.57774884714,\n",
       " 438664.3276067124,\n",
       " 438589.0839195705,\n",
       " 438513.84668742114,\n",
       " 438438.61591026466,\n",
       " 438363.391588101,\n",
       " 438288.17372093,\n",
       " 438212.9623087518,\n",
       " 438137.7573515664,\n",
       " 438062.55884937383,\n",
       " 437987.36680217384,\n",
       " 437912.18120996683,\n",
       " 437837.0020727524,\n",
       " 437761.8293905307,\n",
       " 437686.66316330194,\n",
       " 437611.50339106587,\n",
       " 437536.35007382254,\n",
       " 437461.2032115719,\n",
       " 437386.0628043142,\n",
       " 437310.9288520492,\n",
       " 437235.80135477695,\n",
       " 437160.68031249737,\n",
       " 437085.56572521065,\n",
       " 437010.4575929166,\n",
       " 436935.35591561545,\n",
       " 436860.260693307,\n",
       " 436785.1719259913,\n",
       " 436710.08961366845,\n",
       " 436635.0137563382,\n",
       " 436559.9443540008,\n",
       " 436484.8814066561,\n",
       " 436409.82491430436,\n",
       " 436334.7748769452,\n",
       " 436259.73129457876,\n",
       " 436184.6941672053,\n",
       " 436109.6634948244,\n",
       " 436034.63927743636,\n",
       " 435959.6215150411,\n",
       " 435884.6102076386,\n",
       " 435809.60535522876,\n",
       " 435734.6069578118,\n",
       " 435659.61501538754,\n",
       " 435584.6295279561,\n",
       " 435509.6504955173,\n",
       " 435434.6779180714,\n",
       " 435359.7117956182,\n",
       " 435284.7521281578,\n",
       " 435209.79891569004,\n",
       " 435134.8521582152,\n",
       " 435059.91185573296,\n",
       " 434984.97800824366,\n",
       " 434910.05061574705,\n",
       " 434835.12967824313,\n",
       " 434760.2151957322,\n",
       " 434685.3071682138,\n",
       " 434610.4055956882,\n",
       " 434535.51047815545,\n",
       " 434460.62181561533,\n",
       " 434385.7396080681,\n",
       " 434310.8638555136,\n",
       " 434235.9945579518,\n",
       " 434161.1317153829,\n",
       " 434086.2753278066,\n",
       " 434011.42539522325,\n",
       " 433936.58191763255,\n",
       " 433861.7448950345,\n",
       " 433786.9143274295,\n",
       " 433712.090214817,\n",
       " 433637.2725571973,\n",
       " 433562.4613545705,\n",
       " 433487.6566069363,\n",
       " 433412.858314295,\n",
       " 433338.06647664646,\n",
       " 433263.28109399055,\n",
       " 433188.5021663275,\n",
       " 433113.72969365725,\n",
       " 433038.96367597964,\n",
       " 432964.20411329495,\n",
       " 432889.4510056029,\n",
       " 432814.7043529037,\n",
       " 432739.9641551972,\n",
       " 432665.23041248345,\n",
       " 432590.5031247625,\n",
       " 432515.7822920343,\n",
       " 432441.0679142988,\n",
       " 432366.35999155615,\n",
       " 432291.65852380625,\n",
       " 432216.9635110491,\n",
       " 432142.27495328465,\n",
       " 432067.59285051306,\n",
       " 431992.9172027342,\n",
       " 431918.24800994823,\n",
       " 431843.5852721548,\n",
       " 431768.9289893543,\n",
       " 431694.2791615464,\n",
       " 431619.6357887314,\n",
       " 431544.99887090916,\n",
       " 431470.3684080795,\n",
       " 431395.74440024275,\n",
       " 431321.1268473989,\n",
       " 431246.5157495476,\n",
       " 431171.91110668913,\n",
       " 431097.3129188234,\n",
       " 431022.7211859505,\n",
       " 430948.1359080703,\n",
       " 430873.557085183,\n",
       " 430798.9847172883,\n",
       " 430724.41880438634,\n",
       " 430649.85934647726,\n",
       " 430575.3063435609,\n",
       " 430500.7597956374,\n",
       " 430426.21970270644,\n",
       " 430351.68606476847,\n",
       " 430277.1588818231,\n",
       " 430202.63815387065,\n",
       " 430128.1238809108,\n",
       " 430053.61606294377,\n",
       " 429979.1146999695,\n",
       " 429904.619791988,\n",
       " 429830.1313389993,\n",
       " 429755.6493410033,\n",
       " 429681.1737980002,\n",
       " 429606.7047099897,\n",
       " 429532.24207697186,\n",
       " 429457.785898947,\n",
       " 429383.33617591485,\n",
       " 429308.89290787553,\n",
       " 429234.45609482884,\n",
       " 429160.0257367751,\n",
       " 429085.60183371394,\n",
       " 429011.18438564567,\n",
       " 428936.77339257,\n",
       " 428862.36885448714,\n",
       " 428787.97077139706,\n",
       " 428713.57914329984,\n",
       " 428639.19397019537,\n",
       " 428564.8152520835,\n",
       " 428490.4429889645,\n",
       " 428416.0771808383,\n",
       " 428341.71782770485,\n",
       " 428267.3649295641,\n",
       " 428193.01848641626,\n",
       " 428118.678498261,\n",
       " 428044.3449650986,\n",
       " 427970.01788692904,\n",
       " 427895.69726375217,\n",
       " 427821.383095568,\n",
       " 427747.0753823767,\n",
       " 427672.77412417805,\n",
       " 427598.4793209722,\n",
       " 427524.19097275916,\n",
       " 427449.9090795388,\n",
       " 427375.63364131114,\n",
       " 427301.3646580764,\n",
       " 427227.10212983435,\n",
       " 427152.8460565851,\n",
       " 427078.5964383286,\n",
       " 427004.3532750649,\n",
       " 426930.11656679393,\n",
       " 426855.8863135157,\n",
       " 426781.6625152303,\n",
       " 426707.4451719376,\n",
       " 426633.2342836376,\n",
       " 426559.02985033044,\n",
       " 426484.8318720161,\n",
       " 426410.6403486945,\n",
       " 426336.45528036554,\n",
       " 426262.2766670295,\n",
       " 426188.1045086861,\n",
       " 426113.93880533555,\n",
       " 426039.7795569776,\n",
       " 425965.6267636126,\n",
       " 425891.48042524036,\n",
       " 425817.34054186085,\n",
       " 425743.2071134741,\n",
       " 425669.08014008007,\n",
       " 425594.9596216788,\n",
       " 425520.84555827035,\n",
       " 425446.7379498546,\n",
       " 425372.6367964317,\n",
       " 425298.54209800146,\n",
       " 425224.453854564,\n",
       " 425150.37206611945,\n",
       " 425076.2967326675,\n",
       " 425002.2278542084,\n",
       " 424928.165430742,\n",
       " 424854.10946226836,\n",
       " 424780.0599487875,\n",
       " 424706.01689029945,\n",
       " 424631.98028680414,\n",
       " 424557.9501383016,\n",
       " 424483.9264447918,\n",
       " 424409.9092062748,\n",
       " 424335.8984227504,\n",
       " 424261.8940942189,\n",
       " 424187.8962206802,\n",
       " 424113.9048021342,\n",
       " 424039.91983858106,\n",
       " 423965.9413300205,\n",
       " 423891.96927645296,\n",
       " 423818.00367787795,\n",
       " 423744.04453429586,\n",
       " 423670.09184570634,\n",
       " 423596.1456121097,\n",
       " 423522.20583350584,\n",
       " 423448.2725098947,\n",
       " 423374.3456412764,\n",
       " 423300.42522765085,\n",
       " 423226.511269018,\n",
       " 423152.6037653779,\n",
       " 423078.7027167307,\n",
       " 423004.8081230761,\n",
       " 422930.91998441436,\n",
       " 422857.03830074525,\n",
       " 422783.16307206906,\n",
       " 422709.29429838556,\n",
       " 422635.4319796948,\n",
       " 422561.57611599687,\n",
       " 422487.72670729173,\n",
       " 422413.8837535793,\n",
       " 422340.0472548595,\n",
       " 422266.2172111327,\n",
       " 422192.3936223985,\n",
       " 422118.57648865716,\n",
       " 422044.76580990857,\n",
       " 421970.96158615267,\n",
       " 421897.1638173896,\n",
       " 421823.37250361935,\n",
       " 421749.5876448417,\n",
       " 421675.80924105697,\n",
       " 421602.03729226487,\n",
       " 421528.2717984655,\n",
       " 421454.5127596591,\n",
       " 421380.76017584535,\n",
       " 421307.01404702436,\n",
       " 421233.27437319607,\n",
       " 421159.54115436063,\n",
       " 421085.81439051795,\n",
       " 421012.094081668,\n",
       " 420938.3802278108,\n",
       " 420864.67282894644,\n",
       " 420790.97188507486,\n",
       " 420717.27739619586,\n",
       " 420643.5893623097,\n",
       " 420569.9077834164,\n",
       " 420496.2326595158,\n",
       " 420422.563990608,\n",
       " 420348.90177669295,\n",
       " 420275.2460177706,\n",
       " 420201.596713841,\n",
       " 420127.9538649043,\n",
       " 420054.31747096026,\n",
       " 419980.68753200903,\n",
       " 419907.0640480505,\n",
       " 419833.4470190849,\n",
       " 419759.83644511184,\n",
       " 419686.2323261317,\n",
       " 419612.63466214424,\n",
       " 419539.0434531496,\n",
       " 419465.4586991476,\n",
       " 419391.8804001385,\n",
       " 419318.30855612207,\n",
       " 419244.74316709844,\n",
       " 419171.1842330676,\n",
       " 419097.63175402954,\n",
       " 419024.08572998416,\n",
       " 418950.5461609316,\n",
       " 418877.0130468718,\n",
       " 418803.4863878047,\n",
       " 418729.9661837305,\n",
       " 418656.452434649,\n",
       " 418582.9451405601,\n",
       " 418509.4443014642,\n",
       " 418435.949917361,\n",
       " 418362.46198825043,\n",
       " 418288.9805141328,\n",
       " 418215.50549500785,\n",
       " 418142.0369308757,\n",
       " 418068.57482173614,\n",
       " 417995.1191675896,\n",
       " 417921.6699684357,\n",
       " 417848.22722427454,\n",
       " 417774.79093510634,\n",
       " 417701.3611009306,\n",
       " 417627.93772174773,\n",
       " 417554.5207975578,\n",
       " 417481.1103283604,\n",
       " 417407.7063141559,\n",
       " 417334.30875494407,\n",
       " 417260.917650725,\n",
       " 417187.5330014988,\n",
       " 417114.15480726527,\n",
       " 417040.78306802455,\n",
       " 416967.4177837766,\n",
       " 416894.0589545213,\n",
       " 416820.70658025885,\n",
       " 416747.36066098924,\n",
       " 416674.0211967123,\n",
       " 416600.68818742817,\n",
       " 416527.3616331368,\n",
       " 416454.0415338382,\n",
       " 416380.7278895322,\n",
       " 416307.42070021917,\n",
       " 416234.11996589886,\n",
       " 416160.82568657125,\n",
       " 416087.53786223644,\n",
       " 416014.2564928944,\n",
       " 415940.98157854506,\n",
       " 415867.71311918856,\n",
       " 415794.45111482486,\n",
       " 415721.1955654538,\n",
       " 415647.9464710755,\n",
       " 415574.7038316901,\n",
       " 415501.4676472973,\n",
       " 415428.2379178974,\n",
       " 415355.01464349026,\n",
       " 415281.79782407585,\n",
       " 415208.58745965414,\n",
       " 415135.38355022523,\n",
       " 415062.186095789,\n",
       " 414988.9950963457,\n",
       " 414915.81055189506,\n",
       " 414842.6324624373,\n",
       " 414769.46082797233,\n",
       " 414696.29564849986,\n",
       " 414623.13692402036,\n",
       " 414549.9846545335,\n",
       " 414476.8388400395,\n",
       " 414403.6994805383,\n",
       " 414330.5665760297,\n",
       " 414257.44012651395,\n",
       " 414184.32013199106,\n",
       " 414111.20659246086,\n",
       " 414038.0995079234,\n",
       " 413964.9988783787,\n",
       " 413891.90470382676,\n",
       " 413818.8169842676,\n",
       " 413745.73571970116,\n",
       " 413672.66091012757,\n",
       " 413599.59255554667,\n",
       " 413526.5306559586,\n",
       " 413453.4752113632,\n",
       " 413380.4262217606,\n",
       " 413307.3836871507,\n",
       " 413234.3476075337,\n",
       " 413161.3179829094,\n",
       " 413088.2948132779,\n",
       " 413015.27809863916,\n",
       " 412942.2678389931,\n",
       " 412869.26403433987,\n",
       " 412796.26668467943,\n",
       " 412723.2757900117,\n",
       " 412650.2913503368,\n",
       " 412577.3133656546,\n",
       " 412504.34183596517,\n",
       " 412431.3767612684,\n",
       " 412358.4181415645,\n",
       " 412285.46597685345,\n",
       " 412212.520267135,\n",
       " 412139.5810124094,\n",
       " 412066.6482126766,\n",
       " 411993.7218679365,\n",
       " 411920.80197818915,\n",
       " 411847.88854343456,\n",
       " 411774.9815636727,\n",
       " 411702.0810389038,\n",
       " 411629.1869691275,\n",
       " 411556.29935434397,\n",
       " 411483.41819455323,\n",
       " 411410.54348975525,\n",
       " 411337.67523995,\n",
       " 411264.8134451375,\n",
       " 411191.9581053178,\n",
       " 411119.10922049085,\n",
       " 411046.2667906567,\n",
       " 410973.43081581534,\n",
       " 410900.60129596666,\n",
       " 410827.7782311108,\n",
       " 410754.9616212478,\n",
       " 410682.15146637725,\n",
       " 410609.3477664998,\n",
       " 410536.550521615,\n",
       " 410463.7597317228,\n",
       " 410390.9753968236,\n",
       " 410318.197516917,\n",
       " 410245.42609200324,\n",
       " 410172.66112208227,\n",
       " 410099.902607154,\n",
       " 410027.15054721857,\n",
       " 409954.40494227584,\n",
       " 409881.66579232586,\n",
       " 409808.93309736863,\n",
       " 409736.2068574042,\n",
       " 409663.48707243253,\n",
       " 409590.7737424536,\n",
       " 409518.0668674674,\n",
       " 409445.36644747405,\n",
       " 409372.6724824734,\n",
       " 409299.9849724656,\n",
       " 409227.30391745054,\n",
       " 409154.6293174283,\n",
       " 409081.9611723986,\n",
       " 409009.29948236176,\n",
       " 408936.64424731774,\n",
       " 408863.9954672665,\n",
       " 408791.35314220795,\n",
       " 408718.7172721423,\n",
       " 408646.0878570692,\n",
       " 408573.464896989,\n",
       " 408500.8483919015,\n",
       " 408428.23834180686,\n",
       " 408355.6347467049,\n",
       " 408283.0376065957,\n",
       " 408210.4469214793,\n",
       " 408137.86269135564,\n",
       " 408065.2849162247,\n",
       " 407992.71359608666,\n",
       " 407920.1487309413,\n",
       " 407847.5903207887,\n",
       " 407775.03836562886,\n",
       " 407702.49286546186,\n",
       " 407629.9538202875,\n",
       " 407557.42123010586,\n",
       " 407484.89509491716,\n",
       " 407412.37541472114,\n",
       " 407339.8621895178,\n",
       " 407267.3554193073,\n",
       " 407194.85510408966,\n",
       " 407122.3612438647,\n",
       " 407049.8738386324,\n",
       " 406977.392888393,\n",
       " 406904.91839314636,\n",
       " 406832.45035289245,\n",
       " 406759.9887676313,\n",
       " 406687.5336373629,\n",
       " 406615.0849620873,\n",
       " 406542.64274180436,\n",
       " 406470.20697651425,\n",
       " 406397.777666217,\n",
       " 406325.35481091234,\n",
       " 406252.93841060065,\n",
       " 406180.5284652815,\n",
       " 406108.12497495516,\n",
       " 406035.7279396217,\n",
       " 405963.3373592809,\n",
       " 405890.95323393284,\n",
       " 405818.5755635777,\n",
       " 405746.2043482152,\n",
       " 405673.8395878456,\n",
       " 405601.48128246854,\n",
       " 405529.12943208433,\n",
       " 405456.78403669305,\n",
       " 405384.4450962944,\n",
       " 405312.1126108885,\n",
       " 405239.78658047534,\n",
       " 405167.46700505493,\n",
       " 405095.1538846273,\n",
       " 405022.8472191925,\n",
       " 404950.5470087505,\n",
       " 404878.2532533011,\n",
       " 404805.9659528445,\n",
       " 404733.68510738073,\n",
       " 404661.41071690974,\n",
       " 404589.1427814315,\n",
       " 404516.8813009459,\n",
       " 404444.62627545325,\n",
       " 404372.37770495325,\n",
       " 404300.13558944606,\n",
       " 404227.8999289316,\n",
       " 404155.67072341003,\n",
       " 404083.447972881,\n",
       " 404011.2316773449,\n",
       " 403939.02183680143,\n",
       " 403866.8184512507,\n",
       " 403794.62152069295,\n",
       " 403722.4310451278,\n",
       " 403650.24702455546,\n",
       " 403578.0694589759,\n",
       " 403505.89834838896,\n",
       " 403433.73369279504,\n",
       " 403361.5754921938,\n",
       " 403289.42374658526,\n",
       " 403217.2784559694,\n",
       " 403145.1396203464,\n",
       " 403073.0072397162,\n",
       " 403000.8813140788,\n",
       " 402928.76184343407,\n",
       " 402856.648827782,\n",
       " 402784.54226712283,\n",
       " 402712.44216145633,\n",
       " 402640.3485107828,\n",
       " 402568.2613151018,\n",
       " 402496.18057441374,\n",
       " 402424.1062887183,\n",
       " 402352.03845801577,\n",
       " 402279.9770823059,\n",
       " 402207.92216158885,\n",
       " 402135.8736958645,\n",
       " 402063.83168513293,\n",
       " 401991.7961293942,\n",
       " 401919.7670286481,\n",
       " 401847.74438289483,\n",
       " 401775.7281921344,\n",
       " 401703.7184563666,\n",
       " 401631.7151755916,\n",
       " 401559.71834980935,\n",
       " 401487.7279790199,\n",
       " 401415.74406322325,\n",
       " 401343.7666024194,\n",
       " 401271.79559660814,\n",
       " 401199.83104578976,\n",
       " 401127.87294996413,\n",
       " 401055.92130913126,\n",
       " 400983.97612329107,\n",
       " 400912.0373924437,\n",
       " 400840.1051165891,\n",
       " 400768.17929572734,\n",
       " 400696.2599298583,\n",
       " 400624.34701898193,\n",
       " 400552.4405630984,\n",
       " 400480.5405622077,\n",
       " 400408.6470163097,\n",
       " 400336.7599254044,\n",
       " 400264.87928949186,\n",
       " 400193.00510857225,\n",
       " 400121.13738264533,\n",
       " 400049.27611171105,\n",
       " 399977.4212957696,\n",
       " 399905.57293482096,\n",
       " 399833.73102886503,\n",
       " 399761.89557790186,\n",
       " 399690.06658193143,\n",
       " 399618.24404095387,\n",
       " 399546.4279549691,\n",
       " 399474.61832397693,\n",
       " 399402.8151479776,\n",
       " 399331.0184269711,\n",
       " 399259.2281609573,\n",
       " 399187.44434993627,\n",
       " 399115.66699390794,\n",
       " 399043.8960928724,\n",
       " 398972.1316468297,\n",
       " 398900.3736557798,\n",
       " 398828.6221197225,\n",
       " 398756.87703865796,\n",
       " 398685.1384125863,\n",
       " 398613.4062415073,\n",
       " 398541.6805254213,\n",
       " 398469.96126432775,\n",
       " 398398.24845822714,\n",
       " 398326.5421071193,\n",
       " 398254.8422110041,\n",
       " 398183.1487698817,\n",
       " 398111.4617837522,\n",
       " 398039.7812526154,\n",
       " 397968.10717647127,\n",
       " 397896.4395553201,\n",
       " 397824.77838916134,\n",
       " 397753.12367799564,\n",
       " 397681.47542182263,\n",
       " 397609.83362064237,\n",
       " 397538.1982744549,\n",
       " 397466.56938326015,\n",
       " 397394.9469470582,\n",
       " 397323.330965849,\n",
       " 397251.7214396326,\n",
       " 397180.11836840893,\n",
       " 397108.5217521779,\n",
       " 397036.9315909398,\n",
       " 396965.3478846944,\n",
       " 396893.77063344175,\n",
       " 396822.19983718195,\n",
       " 396750.6354959149,\n",
       " 396679.07760964055,\n",
       " 396607.52617835894,\n",
       " 396535.98120207014,\n",
       " 396464.442680774,\n",
       " 396392.9106144708,\n",
       " 396321.38500316034,\n",
       " 396249.86584684247,\n",
       " 396178.3531455176,\n",
       " 396106.84689918533,\n",
       " 396035.34710784577,\n",
       " 395963.8537714991,\n",
       " 395892.36689014523,\n",
       " 395820.88646378403,\n",
       " 395749.4124924156,\n",
       " 395677.94497603993,\n",
       " 395606.4839146571,\n",
       " 395535.0293082669,\n",
       " 395463.5811568696,\n",
       " 395392.139460465,\n",
       " 395320.70421905315,\n",
       " 395249.275432634,\n",
       " 395177.85310120764,\n",
       " 395106.4372247743,\n",
       " 395035.02780333336,\n",
       " 394963.6248368854,\n",
       " 394892.2283254301,\n",
       " 394820.8382689677,\n",
       " 394749.4546674979,\n",
       " 394678.0775210209,\n",
       " 394606.7068295367,\n",
       " 394535.3425930452,\n",
       " 394463.9848115466,\n",
       " 394392.6334850406,\n",
       " 394321.28861352755,\n",
       " 394249.95019700704,\n",
       " 394178.61823547946,\n",
       " 394107.2927289446,\n",
       " 394035.9736774025,\n",
       " 393964.6610808532,\n",
       " 393893.3549392966,\n",
       " 393822.0552527327,\n",
       " 393750.76202116173,\n",
       " 393679.47524458345,\n",
       " 393608.19492299785,\n",
       " 393536.9210564051,\n",
       " 393465.6536448051,\n",
       " 393394.3926881979,\n",
       " 393323.13818658347,\n",
       " 393251.89013996173,\n",
       " 393180.64854833274,\n",
       " 393109.41341169656,\n",
       " 393038.1847300532,\n",
       " 392966.96250340255,\n",
       " 392895.7467317447,\n",
       " 392824.5374150795,\n",
       " 392753.33455340704,\n",
       " 392682.13814672746,\n",
       " 392610.9481950407,\n",
       " 392539.76469834655,\n",
       " 392468.5876566453,\n",
       " 392397.4170699367,\n",
       " 392326.25293822086,\n",
       " 392255.0952614979,\n",
       " 392183.94403976755,\n",
       " 392112.7992730301,\n",
       " 392041.66096128547,\n",
       " 391970.52910453343,\n",
       " 391899.4037027742,\n",
       " 391828.28475600766,\n",
       " 391757.17226423405,\n",
       " 391686.06622745306,\n",
       " 391614.9666456649,\n",
       " 391543.87351886946,\n",
       " 391472.78684706695,\n",
       " 391401.706630257,\n",
       " 391330.63286843995,\n",
       " 391259.5655616156,\n",
       " 391188.504709784,\n",
       " 391117.4503129451,\n",
       " 391046.4023710991,\n",
       " 390975.3608842459,\n",
       " ...]"
      ]
     },
     "execution_count": 19,
     "metadata": {},
     "output_type": "execute_result"
    }
   ],
   "source": [
    "rss"
   ]
  },
  {
   "cell_type": "code",
   "execution_count": 20,
   "id": "9c1ee148",
   "metadata": {},
   "outputs": [],
   "source": [
    "ind_min=np.argmin(rss)"
   ]
  },
  {
   "cell_type": "code",
   "execution_count": 21,
   "id": "d4757fe0",
   "metadata": {},
   "outputs": [
    {
     "data": {
      "text/plain": [
       "12004"
      ]
     },
     "execution_count": 21,
     "metadata": {},
     "output_type": "execute_result"
    }
   ],
   "source": [
    "ind_min"
   ]
  },
  {
   "cell_type": "code",
   "execution_count": 22,
   "id": "f647c561",
   "metadata": {},
   "outputs": [
    {
     "name": "stdout",
     "output_type": "stream",
     "text": [
      "Estimate for the slope: 2.003999999993347\n"
     ]
    }
   ],
   "source": [
    "print(\"Estimate for the slope:\", slopes[ind_min])"
   ]
  },
  {
   "cell_type": "code",
   "execution_count": 23,
   "id": "448c10a7",
   "metadata": {},
   "outputs": [
    {
     "data": {
      "text/plain": [
       "Text(0, 0.5, 'RSS')"
      ]
     },
     "execution_count": 23,
     "metadata": {},
     "output_type": "execute_result"
    },
    {
     "data": {
      "image/png": "[encoded data removed]",
      "text/plain": [
       "<Figure size 640x480 with 1 Axes>"
      ]
     },
     "metadata": {},
     "output_type": "display_data"
    }
   ],
   "source": [
    "plt.figure()\n",
    "plt.plot(slopes,rss)\n",
    "plt.xlabel(\"Slope\")\n",
    "plt.ylabel(\"RSS\")"
   ]
  },
  {
   "cell_type": "markdown",
   "id": "fd73d4c6",
   "metadata": {},
   "source": [
    "## Simple Linear Regression in Code"
   ]
  },
  {
   "cell_type": "code",
   "execution_count": 25,
   "id": "5db18c5a",
   "metadata": {},
   "outputs": [],
   "source": [
    "import statsmodels.api as sm"
   ]
  },
  {
   "cell_type": "code",
   "execution_count": 30,
   "id": "607445d4",
   "metadata": {},
   "outputs": [
    {
     "name": "stdout",
     "output_type": "stream",
     "text": [
      "                                 OLS Regression Results                                \n",
      "=======================================================================================\n",
      "Dep. Variable:                      y   R-squared (uncentered):                   0.968\n",
      "Model:                            OLS   Adj. R-squared (uncentered):              0.967\n",
      "Method:                 Least Squares   F-statistic:                              2974.\n",
      "Date:                Sun, 20 Aug 2023   Prob (F-statistic):                    1.14e-75\n",
      "Time:                        16:54:17   Log-Likelihood:                         -246.89\n",
      "No. Observations:                 100   AIC:                                      495.8\n",
      "Df Residuals:                      99   BIC:                                      498.4\n",
      "Df Model:                           1                                                  \n",
      "Covariance Type:            nonrobust                                                  \n",
      "==============================================================================\n",
      "                 coef    std err          t      P>|t|      [0.025      0.975]\n",
      "------------------------------------------------------------------------------\n",
      "x1             2.7569      0.051     54.538      0.000       2.657       2.857\n",
      "==============================================================================\n",
      "Omnibus:                        7.901   Durbin-Watson:                   1.579\n",
      "Prob(Omnibus):                  0.019   Jarque-Bera (JB):                3.386\n",
      "Skew:                           0.139   Prob(JB):                        0.184\n",
      "Kurtosis:                       2.143   Cond. No.                         1.00\n",
      "==============================================================================\n",
      "\n",
      "Notes:\n",
      "[1] R² is computed without centering (uncentered) since the model does not contain a constant.\n",
      "[2] Standard Errors assume that the covariance matrix of the errors is correctly specified.\n"
     ]
    }
   ],
   "source": [
    "mod=sm.OLS(y,x)  ##OSL stands for ordinary least square\n",
    "est=mod.fit()\n",
    "print(est.summary())"
   ]
  },
  {
   "cell_type": "code",
   "execution_count": 31,
   "id": "55df2dc9",
   "metadata": {
    "scrolled": true
   },
   "outputs": [
    {
     "name": "stdout",
     "output_type": "stream",
     "text": [
      "                            OLS Regression Results                            \n",
      "==============================================================================\n",
      "Dep. Variable:                      y   R-squared:                       0.977\n",
      "Model:                            OLS   Adj. R-squared:                  0.977\n",
      "Method:                 Least Squares   F-statistic:                     4115.\n",
      "Date:                Sun, 20 Aug 2023   Prob (F-statistic):           7.47e-82\n",
      "Time:                        18:04:14   Log-Likelihood:                -130.72\n",
      "No. Observations:                 100   AIC:                             265.4\n",
      "Df Residuals:                      98   BIC:                             270.7\n",
      "Df Model:                           1                                         \n",
      "Covariance Type:            nonrobust                                         \n",
      "==============================================================================\n",
      "                 coef    std err          t      P>|t|      [0.025      0.975]\n",
      "------------------------------------------------------------------------------\n",
      "const          5.2370      0.174     30.041      0.000       4.891       5.583\n",
      "x1             1.9685      0.031     64.151      0.000       1.908       2.029\n",
      "==============================================================================\n",
      "Omnibus:                        2.308   Durbin-Watson:                   2.206\n",
      "Prob(Omnibus):                  0.315   Jarque-Bera (JB):                1.753\n",
      "Skew:                          -0.189   Prob(JB):                        0.416\n",
      "Kurtosis:                       3.528   Cond. No.                         11.2\n",
      "==============================================================================\n",
      "\n",
      "Notes:\n",
      "[1] Standard Errors assume that the covariance matrix of the errors is correctly specified.\n"
     ]
    }
   ],
   "source": [
    "X=sm.add_constant(x)\n",
    "mod=sm.OLS(y,X)\n",
    "est=mod.fit()\n",
    "print(est.summary())"
   ]
  },
  {
   "cell_type": "markdown",
   "id": "742bb3c5",
   "metadata": {},
   "source": [
    "$1.9685\\pm1.96\\times0.031$, which $1.9685$ is the slope estimate, $0.031$ is the standard error and the total value is the $95$% confidence interval"
   ]
  },
  {
   "cell_type": "markdown",
   "id": "a34fef1c",
   "metadata": {},
   "source": [
    "The Total sum of squares $TSS=\\sum_{i=1}^{n}(y_{i}-\\overline{y})^{2}$"
   ]
  },
  {
   "cell_type": "markdown",
   "id": "8784e0d6",
   "metadata": {},
   "source": [
    "we expect that RSS is smaller than TSS"
   ]
  },
  {
   "cell_type": "markdown",
   "id": "95f0f434",
   "metadata": {},
   "source": [
    "The r-squared statistic takes the difference between TSS and RSS,\n",
    "and then divides that quantity by TSS. ($R^2=\\frac{TSS-RSS}{TSS}$)\n",
    "A number near 0, therefore, indicates that the model did not\n",
    "explain much of the variability in the response or the outcome.\n",
    "Larger values are better, but what values of r-squared are considered good always depends on the application context.\n"
   ]
  },
  {
   "cell_type": "markdown",
   "id": "b4e368a1",
   "metadata": {},
   "source": [
    "## Multiple Linear Regression"
   ]
  },
  {
   "cell_type": "markdown",
   "id": "164a18ea",
   "metadata": {},
   "source": [
    "The goal is to predict a quantitative or a scalar valued response, Y, on the basis of several predictor variables. "
   ]
  },
  {
   "cell_type": "markdown",
   "id": "9bee9d74",
   "metadata": {},
   "source": [
    "$Y=\\beta_0+\\beta_1X_1+\\beta_2X_2+...+\\beta_pX_p+\\varepsilon$"
   ]
  },
  {
   "cell_type": "markdown",
   "id": "2fdda738",
   "metadata": {},
   "source": [
    "In general, consider a predictor Xk and the parameter beta\n",
    "k associated with that predictor. A unit change the value of xk is associated with a change beta hat k in the value of the outcome y, while keeping all other predictors fixed. If the values of the predictors are correlated, it may not be possible to change the value of one predictor and keep the others fixed. So one therefore always needs to be careful with interpretation of model results."
   ]
  },
  {
   "cell_type": "markdown",
   "id": "ad69f876",
   "metadata": {},
   "source": [
    "## scikit-learn for Linear Regression"
   ]
  },
  {
   "cell_type": "code",
   "execution_count": 33,
   "id": "6706c09c",
   "metadata": {},
   "outputs": [],
   "source": [
    "n=500\n",
    "beta_0=5\n",
    "beta_1=2\n",
    "beta_2=-1\n",
    "np.random.seed(1)\n",
    "x_1=10*ss.uniform.rvs(size=n)\n",
    "x_2=10*ss.uniform.rvs(size=n)\n",
    "y=beta_0+beta_1*x_1+beta_2*x_2+ss.norm.rvs(loc=0,scale=1,size=n)"
   ]
  },
  {
   "cell_type": "code",
   "execution_count": 35,
   "id": "57d79458",
   "metadata": {},
   "outputs": [],
   "source": [
    "X=np.stack([x_1,x_2],axis=1)"
   ]
  },
  {
   "cell_type": "code",
   "execution_count": 36,
   "id": "6bbc69f9",
   "metadata": {},
   "outputs": [],
   "source": [
    "from mpl_toolkits.mplot3d import Axes3D"
   ]
  },
  {
   "cell_type": "code",
   "execution_count": 37,
   "id": "97b28900",
   "metadata": {},
   "outputs": [
    {
     "data": {
      "text/plain": [
       "Text(0.5, 0, '$y$')"
      ]
     },
     "execution_count": 37,
     "metadata": {},
     "output_type": "execute_result"
    },
    {
     "data": {
      "image/png": "[encoded data removed]",
      "text/plain": [
       "<Figure size 640x480 with 1 Axes>"
      ]
     },
     "metadata": {},
     "output_type": "display_data"
    }
   ],
   "source": [
    "fig=plt.figure()\n",
    "ax=fig.add_subplot(111, projection=\"3d\")\n",
    "ax.scatter(X[:,0],X[:,1],y,c=y)\n",
    "ax.set_xlabel(\"$x_1$\")\n",
    "ax.set_ylabel(\"$x_2$\")\n",
    "ax.set_zlabel(\"$y$\")"
   ]
  },
  {
   "cell_type": "code",
   "execution_count": 38,
   "id": "70ec4393",
   "metadata": {},
   "outputs": [],
   "source": [
    "from sklearn.linear_model import LinearRegression"
   ]
  },
  {
   "cell_type": "code",
   "execution_count": 39,
   "id": "ca7ac018",
   "metadata": {},
   "outputs": [
    {
     "data": {
      "text/html": [
       "<style>#sk-container-id-1 {color: black;}#sk-container-id-1 pre{padding: 0;}#sk-container-id-1 div.sk-toggleable {background-color: white;}#sk-container-id-1 label.sk-toggleable__label {cursor: pointer;display: block;width: 100%;margin-bottom: 0;padding: 0.3em;box-sizing: border-box;text-align: center;}#sk-container-id-1 label.sk-toggleable__label-arrow:before {content: \"▸\";float: left;margin-right: 0.25em;color: #696969;}#sk-container-id-1 label.sk-toggleable__label-arrow:hover:before {color: black;}#sk-container-id-1 div.sk-estimator:hover label.sk-toggleable__label-arrow:before {color: black;}#sk-container-id-1 div.sk-toggleable__content {max-height: 0;max-width: 0;overflow: hidden;text-align: left;background-color: #f0f8ff;}#sk-container-id-1 div.sk-toggleable__content pre {margin: 0.2em;color: black;border-radius: 0.25em;background-color: #f0f8ff;}#sk-container-id-1 input.sk-toggleable__control:checked~div.sk-toggleable__content {max-height: 200px;max-width: 100%;overflow: auto;}#sk-container-id-1 input.sk-toggleable__control:checked~label.sk-toggleable__label-arrow:before {content: \"▾\";}#sk-container-id-1 div.sk-estimator input.sk-toggleable__control:checked~label.sk-toggleable__label {background-color: #d4ebff;}#sk-container-id-1 div.sk-label input.sk-toggleable__control:checked~label.sk-toggleable__label {background-color: #d4ebff;}#sk-container-id-1 input.sk-hidden--visually {border: 0;clip: rect(1px 1px 1px 1px);clip: rect(1px, 1px, 1px, 1px);height: 1px;margin: -1px;overflow: hidden;padding: 0;position: absolute;width: 1px;}#sk-container-id-1 div.sk-estimator {font-family: monospace;background-color: #f0f8ff;border: 1px dotted black;border-radius: 0.25em;box-sizing: border-box;margin-bottom: 0.5em;}#sk-container-id-1 div.sk-estimator:hover {background-color: #d4ebff;}#sk-container-id-1 div.sk-parallel-item::after {content: \"\";width: 100%;border-bottom: 1px solid gray;flex-grow: 1;}#sk-container-id-1 div.sk-label:hover label.sk-toggleable__label {background-color: #d4ebff;}#sk-container-id-1 div.sk-serial::before {content: \"\";position: absolute;border-left: 1px solid gray;box-sizing: border-box;top: 0;bottom: 0;left: 50%;z-index: 0;}#sk-container-id-1 div.sk-serial {display: flex;flex-direction: column;align-items: center;background-color: white;padding-right: 0.2em;padding-left: 0.2em;position: relative;}#sk-container-id-1 div.sk-item {position: relative;z-index: 1;}#sk-container-id-1 div.sk-parallel {display: flex;align-items: stretch;justify-content: center;background-color: white;position: relative;}#sk-container-id-1 div.sk-item::before, #sk-container-id-1 div.sk-parallel-item::before {content: \"\";position: absolute;border-left: 1px solid gray;box-sizing: border-box;top: 0;bottom: 0;left: 50%;z-index: -1;}#sk-container-id-1 div.sk-parallel-item {display: flex;flex-direction: column;z-index: 1;position: relative;background-color: white;}#sk-container-id-1 div.sk-parallel-item:first-child::after {align-self: flex-end;width: 50%;}#sk-container-id-1 div.sk-parallel-item:last-child::after {align-self: flex-start;width: 50%;}#sk-container-id-1 div.sk-parallel-item:only-child::after {width: 0;}#sk-container-id-1 div.sk-dashed-wrapped {border: 1px dashed gray;margin: 0 0.4em 0.5em 0.4em;box-sizing: border-box;padding-bottom: 0.4em;background-color: white;}#sk-container-id-1 div.sk-label label {font-family: monospace;font-weight: bold;display: inline-block;line-height: 1.2em;}#sk-container-id-1 div.sk-label-container {text-align: center;}#sk-container-id-1 div.sk-container {/* jupyter's `normalize.less` sets `[hidden] { display: none; }` but bootstrap.min.css set `[hidden] { display: none !important; }` so we also need the `!important` here to be able to override the default hidden behavior on the sphinx rendered scikit-learn.org. See: https://github.com/scikit-learn/scikit-learn/issues/21755 */display: inline-block !important;position: relative;}#sk-container-id-1 div.sk-text-repr-fallback {display: none;}</style><div id=\"sk-container-id-1\" class=\"sk-top-container\"><div class=\"sk-text-repr-fallback\"><pre>LinearRegression()</pre><b>In a Jupyter environment, please rerun this cell to show the HTML representation or trust the notebook. <br />On GitHub, the HTML representation is unable to render, please try loading this page with nbviewer.org.</b></div><div class=\"sk-container\" hidden><div class=\"sk-item\"><div class=\"sk-estimator sk-toggleable\"><input class=\"sk-toggleable__control sk-hidden--visually\" id=\"sk-estimator-id-1\" type=\"checkbox\" checked><label for=\"sk-estimator-id-1\" class=\"sk-toggleable__label sk-toggleable__label-arrow\">LinearRegression</label><div class=\"sk-toggleable__content\"><pre>LinearRegression()</pre></div></div></div></div></div>"
      ],
      "text/plain": [
       "LinearRegression()"
      ]
     },
     "execution_count": 39,
     "metadata": {},
     "output_type": "execute_result"
    }
   ],
   "source": [
    "lm=LinearRegression(fit_intercept=True)\n",
    "lm.fit(X,y)"
   ]
  },
  {
   "cell_type": "code",
   "execution_count": 40,
   "id": "60a702d7",
   "metadata": {},
   "outputs": [
    {
     "data": {
      "text/plain": [
       "5.154077763777254"
      ]
     },
     "execution_count": 40,
     "metadata": {},
     "output_type": "execute_result"
    }
   ],
   "source": [
    "lm.intercept_"
   ]
  },
  {
   "cell_type": "code",
   "execution_count": 42,
   "id": "36876f8a",
   "metadata": {},
   "outputs": [
    {
     "data": {
      "text/plain": [
       "1.9999378989891399"
      ]
     },
     "execution_count": 42,
     "metadata": {},
     "output_type": "execute_result"
    }
   ],
   "source": [
    "lm.coef_[0]"
   ]
  },
  {
   "cell_type": "code",
   "execution_count": 43,
   "id": "92e8495d",
   "metadata": {},
   "outputs": [
    {
     "data": {
      "text/plain": [
       "-1.020264486993336"
      ]
     },
     "execution_count": 43,
     "metadata": {},
     "output_type": "execute_result"
    }
   ],
   "source": [
    "lm.coef_[1]"
   ]
  },
  {
   "cell_type": "code",
   "execution_count": 44,
   "id": "8dd34fa3",
   "metadata": {},
   "outputs": [],
   "source": [
    "X_0=np.array([2,4])"
   ]
  },
  {
   "cell_type": "code",
   "execution_count": 45,
   "id": "7d0952a9",
   "metadata": {},
   "outputs": [
    {
     "ename": "ValueError",
     "evalue": "Expected 2D array, got 1D array instead:\narray=[2 4].\nReshape your data either using array.reshape(-1, 1) if your data has a single feature or array.reshape(1, -1) if it contains a single sample.",
     "output_type": "error",
     "traceback": [
      "\u001b[0;31m---------------------------------------------------------------------------\u001b[0m",
      "\u001b[0;31mValueError\u001b[0m                                Traceback (most recent call last)",
      "Cell \u001b[0;32mIn[45], line 1\u001b[0m\n\u001b[0;32m----> 1\u001b[0m \u001b[43mlm\u001b[49m\u001b[38;5;241;43m.\u001b[39;49m\u001b[43mpredict\u001b[49m\u001b[43m(\u001b[49m\u001b[43mX_0\u001b[49m\u001b[43m)\u001b[49m\n",
      "File \u001b[0;32m~/MyWork/lib/python3.9/site-packages/sklearn/linear_model/_base.py:386\u001b[0m, in \u001b[0;36mLinearModel.predict\u001b[0;34m(self, X)\u001b[0m\n\u001b[1;32m    372\u001b[0m \u001b[38;5;28;01mdef\u001b[39;00m \u001b[38;5;21mpredict\u001b[39m(\u001b[38;5;28mself\u001b[39m, X):\n\u001b[1;32m    373\u001b[0m \u001b[38;5;250m    \u001b[39m\u001b[38;5;124;03m\"\"\"\u001b[39;00m\n\u001b[1;32m    374\u001b[0m \u001b[38;5;124;03m    Predict using the linear model.\u001b[39;00m\n\u001b[1;32m    375\u001b[0m \n\u001b[0;32m   (...)\u001b[0m\n\u001b[1;32m    384\u001b[0m \u001b[38;5;124;03m        Returns predicted values.\u001b[39;00m\n\u001b[1;32m    385\u001b[0m \u001b[38;5;124;03m    \"\"\"\u001b[39;00m\n\u001b[0;32m--> 386\u001b[0m     \u001b[38;5;28;01mreturn\u001b[39;00m \u001b[38;5;28;43mself\u001b[39;49m\u001b[38;5;241;43m.\u001b[39;49m\u001b[43m_decision_function\u001b[49m\u001b[43m(\u001b[49m\u001b[43mX\u001b[49m\u001b[43m)\u001b[49m\n",
      "File \u001b[0;32m~/MyWork/lib/python3.9/site-packages/sklearn/linear_model/_base.py:369\u001b[0m, in \u001b[0;36mLinearModel._decision_function\u001b[0;34m(self, X)\u001b[0m\n\u001b[1;32m    366\u001b[0m \u001b[38;5;28;01mdef\u001b[39;00m \u001b[38;5;21m_decision_function\u001b[39m(\u001b[38;5;28mself\u001b[39m, X):\n\u001b[1;32m    367\u001b[0m     check_is_fitted(\u001b[38;5;28mself\u001b[39m)\n\u001b[0;32m--> 369\u001b[0m     X \u001b[38;5;241m=\u001b[39m \u001b[38;5;28;43mself\u001b[39;49m\u001b[38;5;241;43m.\u001b[39;49m\u001b[43m_validate_data\u001b[49m\u001b[43m(\u001b[49m\u001b[43mX\u001b[49m\u001b[43m,\u001b[49m\u001b[43m \u001b[49m\u001b[43maccept_sparse\u001b[49m\u001b[38;5;241;43m=\u001b[39;49m\u001b[43m[\u001b[49m\u001b[38;5;124;43m\"\u001b[39;49m\u001b[38;5;124;43mcsr\u001b[39;49m\u001b[38;5;124;43m\"\u001b[39;49m\u001b[43m,\u001b[49m\u001b[43m \u001b[49m\u001b[38;5;124;43m\"\u001b[39;49m\u001b[38;5;124;43mcsc\u001b[39;49m\u001b[38;5;124;43m\"\u001b[39;49m\u001b[43m,\u001b[49m\u001b[43m \u001b[49m\u001b[38;5;124;43m\"\u001b[39;49m\u001b[38;5;124;43mcoo\u001b[39;49m\u001b[38;5;124;43m\"\u001b[39;49m\u001b[43m]\u001b[49m\u001b[43m,\u001b[49m\u001b[43m \u001b[49m\u001b[43mreset\u001b[49m\u001b[38;5;241;43m=\u001b[39;49m\u001b[38;5;28;43;01mFalse\u001b[39;49;00m\u001b[43m)\u001b[49m\n\u001b[1;32m    370\u001b[0m     \u001b[38;5;28;01mreturn\u001b[39;00m safe_sparse_dot(X, \u001b[38;5;28mself\u001b[39m\u001b[38;5;241m.\u001b[39mcoef_\u001b[38;5;241m.\u001b[39mT, dense_output\u001b[38;5;241m=\u001b[39m\u001b[38;5;28;01mTrue\u001b[39;00m) \u001b[38;5;241m+\u001b[39m \u001b[38;5;28mself\u001b[39m\u001b[38;5;241m.\u001b[39mintercept_\n",
      "File \u001b[0;32m~/MyWork/lib/python3.9/site-packages/sklearn/base.py:604\u001b[0m, in \u001b[0;36mBaseEstimator._validate_data\u001b[0;34m(self, X, y, reset, validate_separately, cast_to_ndarray, **check_params)\u001b[0m\n\u001b[1;32m    602\u001b[0m         out \u001b[38;5;241m=\u001b[39m X, y\n\u001b[1;32m    603\u001b[0m \u001b[38;5;28;01melif\u001b[39;00m \u001b[38;5;129;01mnot\u001b[39;00m no_val_X \u001b[38;5;129;01mand\u001b[39;00m no_val_y:\n\u001b[0;32m--> 604\u001b[0m     out \u001b[38;5;241m=\u001b[39m \u001b[43mcheck_array\u001b[49m\u001b[43m(\u001b[49m\u001b[43mX\u001b[49m\u001b[43m,\u001b[49m\u001b[43m \u001b[49m\u001b[43minput_name\u001b[49m\u001b[38;5;241;43m=\u001b[39;49m\u001b[38;5;124;43m\"\u001b[39;49m\u001b[38;5;124;43mX\u001b[39;49m\u001b[38;5;124;43m\"\u001b[39;49m\u001b[43m,\u001b[49m\u001b[43m \u001b[49m\u001b[38;5;241;43m*\u001b[39;49m\u001b[38;5;241;43m*\u001b[39;49m\u001b[43mcheck_params\u001b[49m\u001b[43m)\u001b[49m\n\u001b[1;32m    605\u001b[0m \u001b[38;5;28;01melif\u001b[39;00m no_val_X \u001b[38;5;129;01mand\u001b[39;00m \u001b[38;5;129;01mnot\u001b[39;00m no_val_y:\n\u001b[1;32m    606\u001b[0m     out \u001b[38;5;241m=\u001b[39m _check_y(y, \u001b[38;5;241m*\u001b[39m\u001b[38;5;241m*\u001b[39mcheck_params)\n",
      "File \u001b[0;32m~/MyWork/lib/python3.9/site-packages/sklearn/utils/validation.py:940\u001b[0m, in \u001b[0;36mcheck_array\u001b[0;34m(array, accept_sparse, accept_large_sparse, dtype, order, copy, force_all_finite, ensure_2d, allow_nd, ensure_min_samples, ensure_min_features, estimator, input_name)\u001b[0m\n\u001b[1;32m    938\u001b[0m     \u001b[38;5;66;03m# If input is 1D raise error\u001b[39;00m\n\u001b[1;32m    939\u001b[0m     \u001b[38;5;28;01mif\u001b[39;00m array\u001b[38;5;241m.\u001b[39mndim \u001b[38;5;241m==\u001b[39m \u001b[38;5;241m1\u001b[39m:\n\u001b[0;32m--> 940\u001b[0m         \u001b[38;5;28;01mraise\u001b[39;00m \u001b[38;5;167;01mValueError\u001b[39;00m(\n\u001b[1;32m    941\u001b[0m             \u001b[38;5;124m\"\u001b[39m\u001b[38;5;124mExpected 2D array, got 1D array instead:\u001b[39m\u001b[38;5;130;01m\\n\u001b[39;00m\u001b[38;5;124marray=\u001b[39m\u001b[38;5;132;01m{}\u001b[39;00m\u001b[38;5;124m.\u001b[39m\u001b[38;5;130;01m\\n\u001b[39;00m\u001b[38;5;124m\"\u001b[39m\n\u001b[1;32m    942\u001b[0m             \u001b[38;5;124m\"\u001b[39m\u001b[38;5;124mReshape your data either using array.reshape(-1, 1) if \u001b[39m\u001b[38;5;124m\"\u001b[39m\n\u001b[1;32m    943\u001b[0m             \u001b[38;5;124m\"\u001b[39m\u001b[38;5;124myour data has a single feature or array.reshape(1, -1) \u001b[39m\u001b[38;5;124m\"\u001b[39m\n\u001b[1;32m    944\u001b[0m             \u001b[38;5;124m\"\u001b[39m\u001b[38;5;124mif it contains a single sample.\u001b[39m\u001b[38;5;124m\"\u001b[39m\u001b[38;5;241m.\u001b[39mformat(array)\n\u001b[1;32m    945\u001b[0m         )\n\u001b[1;32m    947\u001b[0m \u001b[38;5;28;01mif\u001b[39;00m dtype_numeric \u001b[38;5;129;01mand\u001b[39;00m \u001b[38;5;28mhasattr\u001b[39m(array\u001b[38;5;241m.\u001b[39mdtype, \u001b[38;5;124m\"\u001b[39m\u001b[38;5;124mkind\u001b[39m\u001b[38;5;124m\"\u001b[39m) \u001b[38;5;129;01mand\u001b[39;00m array\u001b[38;5;241m.\u001b[39mdtype\u001b[38;5;241m.\u001b[39mkind \u001b[38;5;129;01min\u001b[39;00m \u001b[38;5;124m\"\u001b[39m\u001b[38;5;124mUSV\u001b[39m\u001b[38;5;124m\"\u001b[39m:\n\u001b[1;32m    948\u001b[0m     \u001b[38;5;28;01mraise\u001b[39;00m \u001b[38;5;167;01mValueError\u001b[39;00m(\n\u001b[1;32m    949\u001b[0m         \u001b[38;5;124m\"\u001b[39m\u001b[38;5;124mdtype=\u001b[39m\u001b[38;5;124m'\u001b[39m\u001b[38;5;124mnumeric\u001b[39m\u001b[38;5;124m'\u001b[39m\u001b[38;5;124m is not compatible with arrays of bytes/strings.\u001b[39m\u001b[38;5;124m\"\u001b[39m\n\u001b[1;32m    950\u001b[0m         \u001b[38;5;124m\"\u001b[39m\u001b[38;5;124mConvert your data to numeric values explicitly instead.\u001b[39m\u001b[38;5;124m\"\u001b[39m\n\u001b[1;32m    951\u001b[0m     )\n",
      "\u001b[0;31mValueError\u001b[0m: Expected 2D array, got 1D array instead:\narray=[2 4].\nReshape your data either using array.reshape(-1, 1) if your data has a single feature or array.reshape(1, -1) if it contains a single sample."
     ]
    }
   ],
   "source": [
    "lm.predict(X_0)"
   ]
  },
  {
   "cell_type": "code",
   "execution_count": 46,
   "id": "2f800019",
   "metadata": {},
   "outputs": [
    {
     "data": {
      "text/plain": [
       "array([5.07289561])"
      ]
     },
     "execution_count": 46,
     "metadata": {},
     "output_type": "execute_result"
    }
   ],
   "source": [
    "lm.predict(X_0.reshape(1,-1))"
   ]
  },
  {
   "cell_type": "code",
   "execution_count": 47,
   "id": "8573f467",
   "metadata": {},
   "outputs": [
    {
     "data": {
      "text/plain": [
       "0.9798997316600129"
      ]
     },
     "execution_count": 47,
     "metadata": {},
     "output_type": "execute_result"
    }
   ],
   "source": [
    "lm.score(X,y)"
   ]
  },
  {
   "cell_type": "markdown",
   "id": "974221ce",
   "metadata": {},
   "source": [
    "## Assessing Model Accuracy\n"
   ]
  },
  {
   "cell_type": "markdown",
   "id": "096bff8e",
   "metadata": {},
   "source": [
    "To evaluate the performance of a regression model, we need to somehow quantify how well the predictions of the model agree with the observed data. In the regression setting, the most commonly used measure is the mean squared error, or MSE."
   ]
  },
  {
   "cell_type": "markdown",
   "id": "a6649212",
   "metadata": {},
   "source": [
    "$MSE=\\frac{1}{n}\\sum_{i=1}^{n}(y_i-\\hat{f}(x_i))^2$"
   ]
  },
  {
   "cell_type": "code",
   "execution_count": 48,
   "id": "0772da6a",
   "metadata": {},
   "outputs": [],
   "source": [
    "from sklearn.model_selection import train_test_split"
   ]
  },
  {
   "cell_type": "code",
   "execution_count": 49,
   "id": "40995ca7",
   "metadata": {},
   "outputs": [],
   "source": [
    "X_train,X_test,y_train,y_test=train_test_split(X,y,train_size=0.5,random_state=1)"
   ]
  },
  {
   "cell_type": "code",
   "execution_count": 50,
   "id": "b6def9dd",
   "metadata": {},
   "outputs": [],
   "source": [
    "lm=LinearRegression(fit_intercept=True)"
   ]
  },
  {
   "cell_type": "code",
   "execution_count": 51,
   "id": "0aba648a",
   "metadata": {},
   "outputs": [
    {
     "data": {
      "text/html": [
       "<style>#sk-container-id-2 {color: black;}#sk-container-id-2 pre{padding: 0;}#sk-container-id-2 div.sk-toggleable {background-color: white;}#sk-container-id-2 label.sk-toggleable__label {cursor: pointer;display: block;width: 100%;margin-bottom: 0;padding: 0.3em;box-sizing: border-box;text-align: center;}#sk-container-id-2 label.sk-toggleable__label-arrow:before {content: \"▸\";float: left;margin-right: 0.25em;color: #696969;}#sk-container-id-2 label.sk-toggleable__label-arrow:hover:before {color: black;}#sk-container-id-2 div.sk-estimator:hover label.sk-toggleable__label-arrow:before {color: black;}#sk-container-id-2 div.sk-toggleable__content {max-height: 0;max-width: 0;overflow: hidden;text-align: left;background-color: #f0f8ff;}#sk-container-id-2 div.sk-toggleable__content pre {margin: 0.2em;color: black;border-radius: 0.25em;background-color: #f0f8ff;}#sk-container-id-2 input.sk-toggleable__control:checked~div.sk-toggleable__content {max-height: 200px;max-width: 100%;overflow: auto;}#sk-container-id-2 input.sk-toggleable__control:checked~label.sk-toggleable__label-arrow:before {content: \"▾\";}#sk-container-id-2 div.sk-estimator input.sk-toggleable__control:checked~label.sk-toggleable__label {background-color: #d4ebff;}#sk-container-id-2 div.sk-label input.sk-toggleable__control:checked~label.sk-toggleable__label {background-color: #d4ebff;}#sk-container-id-2 input.sk-hidden--visually {border: 0;clip: rect(1px 1px 1px 1px);clip: rect(1px, 1px, 1px, 1px);height: 1px;margin: -1px;overflow: hidden;padding: 0;position: absolute;width: 1px;}#sk-container-id-2 div.sk-estimator {font-family: monospace;background-color: #f0f8ff;border: 1px dotted black;border-radius: 0.25em;box-sizing: border-box;margin-bottom: 0.5em;}#sk-container-id-2 div.sk-estimator:hover {background-color: #d4ebff;}#sk-container-id-2 div.sk-parallel-item::after {content: \"\";width: 100%;border-bottom: 1px solid gray;flex-grow: 1;}#sk-container-id-2 div.sk-label:hover label.sk-toggleable__label {background-color: #d4ebff;}#sk-container-id-2 div.sk-serial::before {content: \"\";position: absolute;border-left: 1px solid gray;box-sizing: border-box;top: 0;bottom: 0;left: 50%;z-index: 0;}#sk-container-id-2 div.sk-serial {display: flex;flex-direction: column;align-items: center;background-color: white;padding-right: 0.2em;padding-left: 0.2em;position: relative;}#sk-container-id-2 div.sk-item {position: relative;z-index: 1;}#sk-container-id-2 div.sk-parallel {display: flex;align-items: stretch;justify-content: center;background-color: white;position: relative;}#sk-container-id-2 div.sk-item::before, #sk-container-id-2 div.sk-parallel-item::before {content: \"\";position: absolute;border-left: 1px solid gray;box-sizing: border-box;top: 0;bottom: 0;left: 50%;z-index: -1;}#sk-container-id-2 div.sk-parallel-item {display: flex;flex-direction: column;z-index: 1;position: relative;background-color: white;}#sk-container-id-2 div.sk-parallel-item:first-child::after {align-self: flex-end;width: 50%;}#sk-container-id-2 div.sk-parallel-item:last-child::after {align-self: flex-start;width: 50%;}#sk-container-id-2 div.sk-parallel-item:only-child::after {width: 0;}#sk-container-id-2 div.sk-dashed-wrapped {border: 1px dashed gray;margin: 0 0.4em 0.5em 0.4em;box-sizing: border-box;padding-bottom: 0.4em;background-color: white;}#sk-container-id-2 div.sk-label label {font-family: monospace;font-weight: bold;display: inline-block;line-height: 1.2em;}#sk-container-id-2 div.sk-label-container {text-align: center;}#sk-container-id-2 div.sk-container {/* jupyter's `normalize.less` sets `[hidden] { display: none; }` but bootstrap.min.css set `[hidden] { display: none !important; }` so we also need the `!important` here to be able to override the default hidden behavior on the sphinx rendered scikit-learn.org. See: https://github.com/scikit-learn/scikit-learn/issues/21755 */display: inline-block !important;position: relative;}#sk-container-id-2 div.sk-text-repr-fallback {display: none;}</style><div id=\"sk-container-id-2\" class=\"sk-top-container\"><div class=\"sk-text-repr-fallback\"><pre>LinearRegression()</pre><b>In a Jupyter environment, please rerun this cell to show the HTML representation or trust the notebook. <br />On GitHub, the HTML representation is unable to render, please try loading this page with nbviewer.org.</b></div><div class=\"sk-container\" hidden><div class=\"sk-item\"><div class=\"sk-estimator sk-toggleable\"><input class=\"sk-toggleable__control sk-hidden--visually\" id=\"sk-estimator-id-2\" type=\"checkbox\" checked><label for=\"sk-estimator-id-2\" class=\"sk-toggleable__label sk-toggleable__label-arrow\">LinearRegression</label><div class=\"sk-toggleable__content\"><pre>LinearRegression()</pre></div></div></div></div></div>"
      ],
      "text/plain": [
       "LinearRegression()"
      ]
     },
     "execution_count": 51,
     "metadata": {},
     "output_type": "execute_result"
    }
   ],
   "source": [
    "lm.fit(X_train,y_train)"
   ]
  },
  {
   "cell_type": "code",
   "execution_count": 52,
   "id": "378bb1a4",
   "metadata": {},
   "outputs": [
    {
     "data": {
      "text/plain": [
       "0.9794930834681773"
      ]
     },
     "execution_count": 52,
     "metadata": {},
     "output_type": "execute_result"
    }
   ],
   "source": [
    "lm.score(X_test,y_test)"
   ]
  },
  {
   "cell_type": "markdown",
   "id": "8b347627",
   "metadata": {},
   "source": [
    "Typically, more flexible models require estimating a greater number of parameters. Models that are too flexible can lead to overfitting, which means that the model starts to follow the noise in the data too closely. In the extreme case, the model can memorize the data points rather learn the structure of the data.\n",
    "The problem with this is that it generalizes poorly to unseen data.\n",
    "In contrast, if the model is too simple, it can underfit the data, in which case the model is not sufficiently flexible to learn the structure in the data."
   ]
  },
  {
   "cell_type": "code",
   "execution_count": null,
   "id": "419fd7cb",
   "metadata": {},
   "outputs": [],
   "source": []
  }
 ],
 "metadata": {
  "kernelspec": {
   "display_name": "Python 3 (ipykernel)",
   "language": "python",
   "name": "python3"
  },
  "language_info": {
   "codemirror_mode": {
    "name": "ipython",
    "version": 3
   },
   "file_extension": ".py",
   "mimetype": "text/x-python",
   "name": "python",
   "nbconvert_exporter": "python",
   "pygments_lexer": "ipython3",
   "version": "3.9.6"
  }
 },
 "nbformat": 4,
 "nbformat_minor": 5
}
