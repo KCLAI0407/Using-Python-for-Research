{
 "cells": [
  {
   "cell_type": "code",
   "execution_count": 10,
   "id": "888cfe12",
   "metadata": {},
   "outputs": [],
   "source": [
    "from collections import Counter\n",
    "import os\n",
    "import pandas as pd"
   ]
  },
  {
   "cell_type": "code",
   "execution_count": 28,
   "id": "63abf639",
   "metadata": {},
   "outputs": [],
   "source": [
    "text=\"This is my tset text. We're keeping this text short to keep things manageable.\""
   ]
  },
  {
   "cell_type": "code",
   "execution_count": 8,
   "id": "df567455",
   "metadata": {},
   "outputs": [],
   "source": [
    "def count_words(text):\n",
    "    text=text.lower()\n",
    "    skips=[\".\",\",\",\";\",\":\", \"'\",'\"']\n",
    "    for ch in skips:\n",
    "        text=text.replace(ch,\"\")\n",
    "        \n",
    "    word_counts={}\n",
    "    for word in text.split(\" \"):\n",
    "        #Known word\n",
    "        if word in word_counts:\n",
    "             word_counts[word]+=1\n",
    "        else:\n",
    "            word_counts[word]=1\n",
    "    return word_counts"
   ]
  },
  {
   "cell_type": "code",
   "execution_count": 11,
   "id": "695b0468",
   "metadata": {},
   "outputs": [],
   "source": [
    "def count_words_fast(text):\n",
    "    text=text.lower()\n",
    "    skips=[\".\",\",\",\";\",\":\", \"'\",'\"']\n",
    "    for ch in skips:\n",
    "        text=text.replace(ch,\"\")\n",
    "        \n",
    "    word_counts=Counter(text.split(\" \"))\n",
    "    \n",
    "    return word_counts"
   ]
  },
  {
   "cell_type": "code",
   "execution_count": 12,
   "id": "c9d201aa",
   "metadata": {},
   "outputs": [
    {
     "data": {
      "text/plain": [
       "Counter({'this': 2,\n",
       "         'is': 1,\n",
       "         'my': 1,\n",
       "         'tset': 1,\n",
       "         'text': 2,\n",
       "         'were': 1,\n",
       "         'keeping': 1,\n",
       "         'short': 1,\n",
       "         'to': 1,\n",
       "         'keep': 1,\n",
       "         'things': 1,\n",
       "         'manageable': 1})"
      ]
     },
     "execution_count": 12,
     "metadata": {},
     "output_type": "execute_result"
    }
   ],
   "source": [
    "count_words_fast(text)"
   ]
  },
  {
   "cell_type": "code",
   "execution_count": 13,
   "id": "e01d72c8",
   "metadata": {},
   "outputs": [
    {
     "data": {
      "text/plain": [
       "True"
      ]
     },
     "execution_count": 13,
     "metadata": {},
     "output_type": "execute_result"
    }
   ],
   "source": [
    "count_words_fast(text)==count_words(text)"
   ]
  },
  {
   "cell_type": "code",
   "execution_count": 14,
   "id": "789f2336",
   "metadata": {},
   "outputs": [
    {
     "data": {
      "text/plain": [
       "6"
      ]
     },
     "execution_count": 14,
     "metadata": {},
     "output_type": "execute_result"
    }
   ],
   "source": [
    "len(count_words(\"This comprehension check is to check for comprehension.\"))"
   ]
  },
  {
   "cell_type": "code",
   "execution_count": 17,
   "id": "bf0867ae",
   "metadata": {},
   "outputs": [],
   "source": [
    "def read_book(title_path):\n",
    "    with open(title_path, \"r\", encoding=\"utf8\") as current_file:\n",
    "        text=currrent_file.read()\n",
    "        text.replace(\"\\n\", \"\").replace(\"\\r\",\"\")\n",
    "    return text"
   ]
  },
  {
   "cell_type": "code",
   "execution_count": 30,
   "id": "9ab7637f",
   "metadata": {},
   "outputs": [],
   "source": [
    "def word_stats(word_counts):\n",
    "    num_unique=len(word_counts)\n",
    "    counts=word_counts.values()\n",
    "    return (num_unique,sum(counts))"
   ]
  },
  {
   "cell_type": "code",
   "execution_count": null,
   "id": "44e1c846",
   "metadata": {},
   "outputs": [],
   "source": [
    "book_dir=\"\""
   ]
  },
  {
   "cell_type": "markdown",
   "id": "feb8ba0d",
   "metadata": {},
   "source": [
    "#### Remark"
   ]
  },
  {
   "cell_type": "code",
   "execution_count": 34,
   "id": "799a2adc",
   "metadata": {},
   "outputs": [],
   "source": [
    "table=pd.DataFrame(columns=(\"name\",\"age\"))"
   ]
  },
  {
   "cell_type": "code",
   "execution_count": 35,
   "id": "4d19d6e4",
   "metadata": {},
   "outputs": [],
   "source": [
    "table.loc[1]=\"Jame\",22"
   ]
  },
  {
   "cell_type": "code",
   "execution_count": 37,
   "id": "3d8c1b31",
   "metadata": {},
   "outputs": [],
   "source": [
    "table.loc[2]=\"Jess\",32"
   ]
  },
  {
   "cell_type": "code",
   "execution_count": 43,
   "id": "7f9a7b8b",
   "metadata": {},
   "outputs": [
    {
     "data": {
      "text/plain": [
       "Index(['name', 'age'], dtype='object')"
      ]
     },
     "execution_count": 43,
     "metadata": {},
     "output_type": "execute_result"
    }
   ],
   "source": [
    "table.columns"
   ]
  },
  {
   "cell_type": "code",
   "execution_count": null,
   "id": "2e84968a",
   "metadata": {},
   "outputs": [],
   "source": [
    "import matplotlib.pyplot as plt"
   ]
  }
 ],
 "metadata": {
  "kernelspec": {
   "display_name": "Python 3 (ipykernel)",
   "language": "python",
   "name": "python3"
  },
  "language_info": {
   "codemirror_mode": {
    "name": "ipython",
    "version": 3
   },
   "file_extension": ".py",
   "mimetype": "text/x-python",
   "name": "python",
   "nbconvert_exporter": "python",
   "pygments_lexer": "ipython3",
   "version": "3.9.6"
  }
 },
 "nbformat": 4,
 "nbformat_minor": 5
}
