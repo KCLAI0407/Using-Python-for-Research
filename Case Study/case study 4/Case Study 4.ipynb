{
 "cells": [
  {
   "cell_type": "code",
   "execution_count": 1,
   "id": "ad1b5613",
   "metadata": {},
   "outputs": [],
   "source": [
    "import numpy as np\n",
    "import pandas as pd\n",
    "import random\n",
    "import scipy.stats as ss\n",
    "import matplotlib.pyplot as plt"
   ]
  },
  {
   "cell_type": "markdown",
   "id": "5ca34a49",
   "metadata": {},
   "source": [
    "## Getting Started with Pandas"
   ]
  },
  {
   "cell_type": "code",
   "execution_count": 2,
   "id": "51013995",
   "metadata": {},
   "outputs": [],
   "source": [
    "x=pd.Series([6,3,8,6])"
   ]
  },
  {
   "cell_type": "code",
   "execution_count": 3,
   "id": "f53c5506",
   "metadata": {},
   "outputs": [
    {
     "data": {
      "text/plain": [
       "0    6\n",
       "1    3\n",
       "2    8\n",
       "3    6\n",
       "dtype: int64"
      ]
     },
     "execution_count": 3,
     "metadata": {},
     "output_type": "execute_result"
    }
   ],
   "source": [
    "x"
   ]
  },
  {
   "cell_type": "code",
   "execution_count": 4,
   "id": "bebde7ff",
   "metadata": {},
   "outputs": [],
   "source": [
    "x=pd.Series([6,3,8,6],index=[\"q\",\"w\",\"e\",\"r\"])"
   ]
  },
  {
   "cell_type": "code",
   "execution_count": 5,
   "id": "bac2a021",
   "metadata": {},
   "outputs": [
    {
     "data": {
      "text/plain": [
       "q    6\n",
       "w    3\n",
       "e    8\n",
       "r    6\n",
       "dtype: int64"
      ]
     },
     "execution_count": 5,
     "metadata": {},
     "output_type": "execute_result"
    }
   ],
   "source": [
    "x"
   ]
  },
  {
   "cell_type": "code",
   "execution_count": 6,
   "id": "c660c929",
   "metadata": {},
   "outputs": [
    {
     "data": {
      "text/plain": [
       "6"
      ]
     },
     "execution_count": 6,
     "metadata": {},
     "output_type": "execute_result"
    }
   ],
   "source": [
    "x[\"r\"]"
   ]
  },
  {
   "cell_type": "code",
   "execution_count": 7,
   "id": "db8f2674",
   "metadata": {},
   "outputs": [
    {
     "data": {
      "text/plain": [
       "r    6\n",
       "w    3\n",
       "dtype: int64"
      ]
     },
     "execution_count": 7,
     "metadata": {},
     "output_type": "execute_result"
    }
   ],
   "source": [
    "x[[\"r\",\"w\"]]"
   ]
  },
  {
   "cell_type": "code",
   "execution_count": 8,
   "id": "677fa6d4",
   "metadata": {},
   "outputs": [],
   "source": [
    "age={\"Tim\":29,\"Jim\":31,\"Pam\":27,\"Sam\":35}"
   ]
  },
  {
   "cell_type": "code",
   "execution_count": 9,
   "id": "2311a712",
   "metadata": {},
   "outputs": [],
   "source": [
    "x=pd.Series(age)"
   ]
  },
  {
   "cell_type": "code",
   "execution_count": 10,
   "id": "590a8993",
   "metadata": {},
   "outputs": [
    {
     "data": {
      "text/plain": [
       "Tim    29\n",
       "Jim    31\n",
       "Pam    27\n",
       "Sam    35\n",
       "dtype: int64"
      ]
     },
     "execution_count": 10,
     "metadata": {},
     "output_type": "execute_result"
    }
   ],
   "source": [
    "x"
   ]
  },
  {
   "cell_type": "code",
   "execution_count": 11,
   "id": "8d4a1f33",
   "metadata": {},
   "outputs": [],
   "source": [
    "data={'name':[\"Tim\",\"Jim\",\"Pam\",\"Sam\"],\n",
    "     'age':[29,31,27,35],\n",
    "      'ZIP':['02115','02130','67700','00100']}"
   ]
  },
  {
   "cell_type": "code",
   "execution_count": 12,
   "id": "70cd59ce",
   "metadata": {},
   "outputs": [],
   "source": [
    "x=pd.DataFrame(data,columns=['name','age','ZIP'])"
   ]
  },
  {
   "cell_type": "code",
   "execution_count": 13,
   "id": "483824b7",
   "metadata": {},
   "outputs": [
    {
     "data": {
      "text/html": [
       "<div>\n",
       "<style scoped>\n",
       "    .dataframe tbody tr th:only-of-type {\n",
       "        vertical-align: middle;\n",
       "    }\n",
       "\n",
       "    .dataframe tbody tr th {\n",
       "        vertical-align: top;\n",
       "    }\n",
       "\n",
       "    .dataframe thead th {\n",
       "        text-align: right;\n",
       "    }\n",
       "</style>\n",
       "<table border=\"1\" class=\"dataframe\">\n",
       "  <thead>\n",
       "    <tr style=\"text-align: right;\">\n",
       "      <th></th>\n",
       "      <th>name</th>\n",
       "      <th>age</th>\n",
       "      <th>ZIP</th>\n",
       "    </tr>\n",
       "  </thead>\n",
       "  <tbody>\n",
       "    <tr>\n",
       "      <th>0</th>\n",
       "      <td>Tim</td>\n",
       "      <td>29</td>\n",
       "      <td>02115</td>\n",
       "    </tr>\n",
       "    <tr>\n",
       "      <th>1</th>\n",
       "      <td>Jim</td>\n",
       "      <td>31</td>\n",
       "      <td>02130</td>\n",
       "    </tr>\n",
       "    <tr>\n",
       "      <th>2</th>\n",
       "      <td>Pam</td>\n",
       "      <td>27</td>\n",
       "      <td>67700</td>\n",
       "    </tr>\n",
       "    <tr>\n",
       "      <th>3</th>\n",
       "      <td>Sam</td>\n",
       "      <td>35</td>\n",
       "      <td>00100</td>\n",
       "    </tr>\n",
       "  </tbody>\n",
       "</table>\n",
       "</div>"
      ],
      "text/plain": [
       "  name  age    ZIP\n",
       "0  Tim   29  02115\n",
       "1  Jim   31  02130\n",
       "2  Pam   27  67700\n",
       "3  Sam   35  00100"
      ]
     },
     "execution_count": 13,
     "metadata": {},
     "output_type": "execute_result"
    }
   ],
   "source": [
    "x"
   ]
  },
  {
   "cell_type": "code",
   "execution_count": 14,
   "id": "eafcfd87",
   "metadata": {},
   "outputs": [
    {
     "data": {
      "text/plain": [
       "0    Tim\n",
       "1    Jim\n",
       "2    Pam\n",
       "3    Sam\n",
       "Name: name, dtype: object"
      ]
     },
     "execution_count": 14,
     "metadata": {},
     "output_type": "execute_result"
    }
   ],
   "source": [
    "x['name']"
   ]
  },
  {
   "cell_type": "code",
   "execution_count": 15,
   "id": "0da9a22a",
   "metadata": {},
   "outputs": [
    {
     "data": {
      "text/plain": [
       "0    Tim\n",
       "1    Jim\n",
       "2    Pam\n",
       "3    Sam\n",
       "Name: name, dtype: object"
      ]
     },
     "execution_count": 15,
     "metadata": {},
     "output_type": "execute_result"
    }
   ],
   "source": [
    "x.name"
   ]
  },
  {
   "cell_type": "code",
   "execution_count": 16,
   "id": "1da08523",
   "metadata": {},
   "outputs": [],
   "source": [
    "x=pd.Series([6,3,8,6],index=[\"q\",\"w\",\"e\",\"r\"])"
   ]
  },
  {
   "cell_type": "code",
   "execution_count": 17,
   "id": "c66dbe19",
   "metadata": {},
   "outputs": [
    {
     "data": {
      "text/plain": [
       "Index(['q', 'w', 'e', 'r'], dtype='object')"
      ]
     },
     "execution_count": 17,
     "metadata": {},
     "output_type": "execute_result"
    }
   ],
   "source": [
    "x.index"
   ]
  },
  {
   "cell_type": "code",
   "execution_count": 18,
   "id": "84cd5327",
   "metadata": {},
   "outputs": [
    {
     "data": {
      "text/plain": [
       "['e', 'q', 'r', 'w']"
      ]
     },
     "execution_count": 18,
     "metadata": {},
     "output_type": "execute_result"
    }
   ],
   "source": [
    "sorted(x.index)"
   ]
  },
  {
   "cell_type": "code",
   "execution_count": 19,
   "id": "725c9161",
   "metadata": {},
   "outputs": [
    {
     "data": {
      "text/plain": [
       "e    8\n",
       "q    6\n",
       "r    6\n",
       "w    3\n",
       "dtype: int64"
      ]
     },
     "execution_count": 19,
     "metadata": {},
     "output_type": "execute_result"
    }
   ],
   "source": [
    "x.reindex(sorted(x.index) )"
   ]
  },
  {
   "cell_type": "code",
   "execution_count": 20,
   "id": "191b3fc4",
   "metadata": {},
   "outputs": [],
   "source": [
    "x=pd.Series([6,3,8,6],index=[\"q\",\"w\",\"e\",\"r\"])\n",
    "y=pd.Series([7,3,5,2],index=[\"e\",\"q\",\"r\",\"t\"])"
   ]
  },
  {
   "cell_type": "code",
   "execution_count": 21,
   "id": "15ca3391",
   "metadata": {},
   "outputs": [
    {
     "data": {
      "text/plain": [
       "e    15.0\n",
       "q     9.0\n",
       "r    11.0\n",
       "t     NaN\n",
       "w     NaN\n",
       "dtype: float64"
      ]
     },
     "execution_count": 21,
     "metadata": {},
     "output_type": "execute_result"
    }
   ],
   "source": [
    "x+y"
   ]
  },
  {
   "cell_type": "markdown",
   "id": "83acac32",
   "metadata": {},
   "source": [
    "## Loading and Inspecting Data"
   ]
  },
  {
   "cell_type": "code",
   "execution_count": 22,
   "id": "f1e17797",
   "metadata": {},
   "outputs": [],
   "source": [
    "whisky=pd.read_csv(\"whiskies.txt\")"
   ]
  },
  {
   "cell_type": "code",
   "execution_count": 23,
   "id": "55965e03",
   "metadata": {},
   "outputs": [],
   "source": [
    "whisky[\"Region\"]=pd.read_csv(\"regions.txt\")"
   ]
  },
  {
   "cell_type": "code",
   "execution_count": 24,
   "id": "ab437871",
   "metadata": {},
   "outputs": [
    {
     "data": {
      "text/html": [
       "<div>\n",
       "<style scoped>\n",
       "    .dataframe tbody tr th:only-of-type {\n",
       "        vertical-align: middle;\n",
       "    }\n",
       "\n",
       "    .dataframe tbody tr th {\n",
       "        vertical-align: top;\n",
       "    }\n",
       "\n",
       "    .dataframe thead th {\n",
       "        text-align: right;\n",
       "    }\n",
       "</style>\n",
       "<table border=\"1\" class=\"dataframe\">\n",
       "  <thead>\n",
       "    <tr style=\"text-align: right;\">\n",
       "      <th></th>\n",
       "      <th>RowID</th>\n",
       "      <th>Distillery</th>\n",
       "      <th>Body</th>\n",
       "      <th>Sweetness</th>\n",
       "      <th>Smoky</th>\n",
       "      <th>Medicinal</th>\n",
       "      <th>Tobacco</th>\n",
       "      <th>Honey</th>\n",
       "      <th>Spicy</th>\n",
       "      <th>Winey</th>\n",
       "      <th>Nutty</th>\n",
       "      <th>Malty</th>\n",
       "      <th>Fruity</th>\n",
       "      <th>Floral</th>\n",
       "      <th>Postcode</th>\n",
       "      <th>Latitude</th>\n",
       "      <th>Longitude</th>\n",
       "      <th>Region</th>\n",
       "    </tr>\n",
       "  </thead>\n",
       "  <tbody>\n",
       "    <tr>\n",
       "      <th>0</th>\n",
       "      <td>1</td>\n",
       "      <td>Aberfeldy</td>\n",
       "      <td>2</td>\n",
       "      <td>2</td>\n",
       "      <td>2</td>\n",
       "      <td>0</td>\n",
       "      <td>0</td>\n",
       "      <td>2</td>\n",
       "      <td>1</td>\n",
       "      <td>2</td>\n",
       "      <td>2</td>\n",
       "      <td>2</td>\n",
       "      <td>2</td>\n",
       "      <td>2</td>\n",
       "      <td>\\tPH15 2EB</td>\n",
       "      <td>286580</td>\n",
       "      <td>749680</td>\n",
       "      <td>Highlands</td>\n",
       "    </tr>\n",
       "    <tr>\n",
       "      <th>1</th>\n",
       "      <td>2</td>\n",
       "      <td>Aberlour</td>\n",
       "      <td>3</td>\n",
       "      <td>3</td>\n",
       "      <td>1</td>\n",
       "      <td>0</td>\n",
       "      <td>0</td>\n",
       "      <td>4</td>\n",
       "      <td>3</td>\n",
       "      <td>2</td>\n",
       "      <td>2</td>\n",
       "      <td>3</td>\n",
       "      <td>3</td>\n",
       "      <td>2</td>\n",
       "      <td>\\tAB38 9PJ</td>\n",
       "      <td>326340</td>\n",
       "      <td>842570</td>\n",
       "      <td>Speyside</td>\n",
       "    </tr>\n",
       "    <tr>\n",
       "      <th>2</th>\n",
       "      <td>3</td>\n",
       "      <td>AnCnoc</td>\n",
       "      <td>1</td>\n",
       "      <td>3</td>\n",
       "      <td>2</td>\n",
       "      <td>0</td>\n",
       "      <td>0</td>\n",
       "      <td>2</td>\n",
       "      <td>0</td>\n",
       "      <td>0</td>\n",
       "      <td>2</td>\n",
       "      <td>2</td>\n",
       "      <td>3</td>\n",
       "      <td>2</td>\n",
       "      <td>\\tAB5 5LI</td>\n",
       "      <td>352960</td>\n",
       "      <td>839320</td>\n",
       "      <td>Highlands</td>\n",
       "    </tr>\n",
       "    <tr>\n",
       "      <th>3</th>\n",
       "      <td>4</td>\n",
       "      <td>Ardbeg</td>\n",
       "      <td>4</td>\n",
       "      <td>1</td>\n",
       "      <td>4</td>\n",
       "      <td>4</td>\n",
       "      <td>0</td>\n",
       "      <td>0</td>\n",
       "      <td>2</td>\n",
       "      <td>0</td>\n",
       "      <td>1</td>\n",
       "      <td>2</td>\n",
       "      <td>1</td>\n",
       "      <td>0</td>\n",
       "      <td>\\tPA42 7EB</td>\n",
       "      <td>141560</td>\n",
       "      <td>646220</td>\n",
       "      <td>Islay</td>\n",
       "    </tr>\n",
       "    <tr>\n",
       "      <th>4</th>\n",
       "      <td>5</td>\n",
       "      <td>Ardmore</td>\n",
       "      <td>2</td>\n",
       "      <td>2</td>\n",
       "      <td>2</td>\n",
       "      <td>0</td>\n",
       "      <td>0</td>\n",
       "      <td>1</td>\n",
       "      <td>1</td>\n",
       "      <td>1</td>\n",
       "      <td>2</td>\n",
       "      <td>3</td>\n",
       "      <td>1</td>\n",
       "      <td>1</td>\n",
       "      <td>\\tAB54 4NH</td>\n",
       "      <td>355350</td>\n",
       "      <td>829140</td>\n",
       "      <td>Highlands</td>\n",
       "    </tr>\n",
       "  </tbody>\n",
       "</table>\n",
       "</div>"
      ],
      "text/plain": [
       "   RowID Distillery  Body  Sweetness  Smoky  Medicinal  Tobacco  Honey  Spicy   \n",
       "0      1  Aberfeldy     2          2      2          0        0      2      1  \\\n",
       "1      2   Aberlour     3          3      1          0        0      4      3   \n",
       "2      3     AnCnoc     1          3      2          0        0      2      0   \n",
       "3      4     Ardbeg     4          1      4          4        0      0      2   \n",
       "4      5    Ardmore     2          2      2          0        0      1      1   \n",
       "\n",
       "   Winey  Nutty  Malty  Fruity  Floral     Postcode   Latitude   Longitude   \n",
       "0      2      2      2       2       2   \\tPH15 2EB     286580      749680  \\\n",
       "1      2      2      3       3       2   \\tAB38 9PJ     326340      842570   \n",
       "2      0      2      2       3       2    \\tAB5 5LI     352960      839320   \n",
       "3      0      1      2       1       0   \\tPA42 7EB     141560      646220   \n",
       "4      1      2      3       1       1   \\tAB54 4NH     355350      829140   \n",
       "\n",
       "      Region  \n",
       "0  Highlands  \n",
       "1   Speyside  \n",
       "2  Highlands  \n",
       "3      Islay  \n",
       "4  Highlands  "
      ]
     },
     "execution_count": 24,
     "metadata": {},
     "output_type": "execute_result"
    }
   ],
   "source": [
    "whisky.head()"
   ]
  },
  {
   "cell_type": "code",
   "execution_count": 25,
   "id": "fbb6bcbd",
   "metadata": {},
   "outputs": [
    {
     "data": {
      "text/html": [
       "<div>\n",
       "<style scoped>\n",
       "    .dataframe tbody tr th:only-of-type {\n",
       "        vertical-align: middle;\n",
       "    }\n",
       "\n",
       "    .dataframe tbody tr th {\n",
       "        vertical-align: top;\n",
       "    }\n",
       "\n",
       "    .dataframe thead th {\n",
       "        text-align: right;\n",
       "    }\n",
       "</style>\n",
       "<table border=\"1\" class=\"dataframe\">\n",
       "  <thead>\n",
       "    <tr style=\"text-align: right;\">\n",
       "      <th></th>\n",
       "      <th>RowID</th>\n",
       "      <th>Distillery</th>\n",
       "      <th>Body</th>\n",
       "      <th>Sweetness</th>\n",
       "      <th>Smoky</th>\n",
       "      <th>Medicinal</th>\n",
       "      <th>Tobacco</th>\n",
       "      <th>Honey</th>\n",
       "      <th>Spicy</th>\n",
       "      <th>Winey</th>\n",
       "      <th>Nutty</th>\n",
       "      <th>Malty</th>\n",
       "      <th>Fruity</th>\n",
       "      <th>Floral</th>\n",
       "      <th>Postcode</th>\n",
       "      <th>Latitude</th>\n",
       "      <th>Longitude</th>\n",
       "      <th>Region</th>\n",
       "    </tr>\n",
       "  </thead>\n",
       "  <tbody>\n",
       "    <tr>\n",
       "      <th>81</th>\n",
       "      <td>82</td>\n",
       "      <td>Tobermory</td>\n",
       "      <td>1</td>\n",
       "      <td>1</td>\n",
       "      <td>1</td>\n",
       "      <td>0</td>\n",
       "      <td>0</td>\n",
       "      <td>1</td>\n",
       "      <td>0</td>\n",
       "      <td>0</td>\n",
       "      <td>1</td>\n",
       "      <td>2</td>\n",
       "      <td>2</td>\n",
       "      <td>2</td>\n",
       "      <td>PA75 6NR</td>\n",
       "      <td>150450</td>\n",
       "      <td>755070</td>\n",
       "      <td>Islands</td>\n",
       "    </tr>\n",
       "    <tr>\n",
       "      <th>82</th>\n",
       "      <td>83</td>\n",
       "      <td>Tomatin</td>\n",
       "      <td>2</td>\n",
       "      <td>3</td>\n",
       "      <td>2</td>\n",
       "      <td>0</td>\n",
       "      <td>0</td>\n",
       "      <td>2</td>\n",
       "      <td>2</td>\n",
       "      <td>1</td>\n",
       "      <td>1</td>\n",
       "      <td>2</td>\n",
       "      <td>0</td>\n",
       "      <td>1</td>\n",
       "      <td>IV13 7YT</td>\n",
       "      <td>279120</td>\n",
       "      <td>829630</td>\n",
       "      <td>Highlands</td>\n",
       "    </tr>\n",
       "    <tr>\n",
       "      <th>83</th>\n",
       "      <td>84</td>\n",
       "      <td>Tomintoul</td>\n",
       "      <td>0</td>\n",
       "      <td>3</td>\n",
       "      <td>1</td>\n",
       "      <td>0</td>\n",
       "      <td>0</td>\n",
       "      <td>2</td>\n",
       "      <td>2</td>\n",
       "      <td>1</td>\n",
       "      <td>1</td>\n",
       "      <td>2</td>\n",
       "      <td>1</td>\n",
       "      <td>2</td>\n",
       "      <td>AB37 9AQ</td>\n",
       "      <td>315100</td>\n",
       "      <td>825560</td>\n",
       "      <td>Speyside</td>\n",
       "    </tr>\n",
       "    <tr>\n",
       "      <th>84</th>\n",
       "      <td>85</td>\n",
       "      <td>Tormore</td>\n",
       "      <td>2</td>\n",
       "      <td>2</td>\n",
       "      <td>1</td>\n",
       "      <td>0</td>\n",
       "      <td>0</td>\n",
       "      <td>1</td>\n",
       "      <td>0</td>\n",
       "      <td>1</td>\n",
       "      <td>2</td>\n",
       "      <td>1</td>\n",
       "      <td>0</td>\n",
       "      <td>0</td>\n",
       "      <td>PH26 3LR</td>\n",
       "      <td>315180</td>\n",
       "      <td>834960</td>\n",
       "      <td>Speyside</td>\n",
       "    </tr>\n",
       "    <tr>\n",
       "      <th>85</th>\n",
       "      <td>86</td>\n",
       "      <td>Tullibardine</td>\n",
       "      <td>2</td>\n",
       "      <td>3</td>\n",
       "      <td>0</td>\n",
       "      <td>0</td>\n",
       "      <td>1</td>\n",
       "      <td>0</td>\n",
       "      <td>2</td>\n",
       "      <td>1</td>\n",
       "      <td>1</td>\n",
       "      <td>2</td>\n",
       "      <td>2</td>\n",
       "      <td>1</td>\n",
       "      <td>PH4 1QG</td>\n",
       "      <td>289690</td>\n",
       "      <td>708850</td>\n",
       "      <td>Highlands</td>\n",
       "    </tr>\n",
       "  </tbody>\n",
       "</table>\n",
       "</div>"
      ],
      "text/plain": [
       "    RowID    Distillery  Body  Sweetness  Smoky  Medicinal  Tobacco  Honey   \n",
       "81     82     Tobermory     1          1      1          0        0      1  \\\n",
       "82     83       Tomatin     2          3      2          0        0      2   \n",
       "83     84     Tomintoul     0          3      1          0        0      2   \n",
       "84     85       Tormore     2          2      1          0        0      1   \n",
       "85     86  Tullibardine     2          3      0          0        1      0   \n",
       "\n",
       "    Spicy  Winey  Nutty  Malty  Fruity  Floral   Postcode   Latitude   \n",
       "81      0      0      1      2       2       2   PA75 6NR     150450  \\\n",
       "82      2      1      1      2       0       1   IV13 7YT     279120   \n",
       "83      2      1      1      2       1       2   AB37 9AQ     315100   \n",
       "84      0      1      2      1       0       0   PH26 3LR     315180   \n",
       "85      2      1      1      2       2       1    PH4 1QG     289690   \n",
       "\n",
       "     Longitude     Region  \n",
       "81      755070    Islands  \n",
       "82      829630  Highlands  \n",
       "83      825560   Speyside  \n",
       "84      834960   Speyside  \n",
       "85      708850  Highlands  "
      ]
     },
     "execution_count": 25,
     "metadata": {},
     "output_type": "execute_result"
    }
   ],
   "source": [
    "whisky.tail()"
   ]
  },
  {
   "cell_type": "code",
   "execution_count": 26,
   "id": "19417f18",
   "metadata": {},
   "outputs": [
    {
     "data": {
      "text/html": [
       "<div>\n",
       "<style scoped>\n",
       "    .dataframe tbody tr th:only-of-type {\n",
       "        vertical-align: middle;\n",
       "    }\n",
       "\n",
       "    .dataframe tbody tr th {\n",
       "        vertical-align: top;\n",
       "    }\n",
       "\n",
       "    .dataframe thead th {\n",
       "        text-align: right;\n",
       "    }\n",
       "</style>\n",
       "<table border=\"1\" class=\"dataframe\">\n",
       "  <thead>\n",
       "    <tr style=\"text-align: right;\">\n",
       "      <th></th>\n",
       "      <th>RowID</th>\n",
       "      <th>Distillery</th>\n",
       "      <th>Body</th>\n",
       "      <th>Sweetness</th>\n",
       "      <th>Smoky</th>\n",
       "      <th>Medicinal</th>\n",
       "      <th>Tobacco</th>\n",
       "      <th>Honey</th>\n",
       "      <th>Spicy</th>\n",
       "      <th>Winey</th>\n",
       "      <th>Nutty</th>\n",
       "      <th>Malty</th>\n",
       "      <th>Fruity</th>\n",
       "      <th>Floral</th>\n",
       "      <th>Postcode</th>\n",
       "      <th>Latitude</th>\n",
       "      <th>Longitude</th>\n",
       "      <th>Region</th>\n",
       "    </tr>\n",
       "  </thead>\n",
       "  <tbody>\n",
       "    <tr>\n",
       "      <th>0</th>\n",
       "      <td>1</td>\n",
       "      <td>Aberfeldy</td>\n",
       "      <td>2</td>\n",
       "      <td>2</td>\n",
       "      <td>2</td>\n",
       "      <td>0</td>\n",
       "      <td>0</td>\n",
       "      <td>2</td>\n",
       "      <td>1</td>\n",
       "      <td>2</td>\n",
       "      <td>2</td>\n",
       "      <td>2</td>\n",
       "      <td>2</td>\n",
       "      <td>2</td>\n",
       "      <td>\\tPH15 2EB</td>\n",
       "      <td>286580</td>\n",
       "      <td>749680</td>\n",
       "      <td>Highlands</td>\n",
       "    </tr>\n",
       "    <tr>\n",
       "      <th>1</th>\n",
       "      <td>2</td>\n",
       "      <td>Aberlour</td>\n",
       "      <td>3</td>\n",
       "      <td>3</td>\n",
       "      <td>1</td>\n",
       "      <td>0</td>\n",
       "      <td>0</td>\n",
       "      <td>4</td>\n",
       "      <td>3</td>\n",
       "      <td>2</td>\n",
       "      <td>2</td>\n",
       "      <td>3</td>\n",
       "      <td>3</td>\n",
       "      <td>2</td>\n",
       "      <td>\\tAB38 9PJ</td>\n",
       "      <td>326340</td>\n",
       "      <td>842570</td>\n",
       "      <td>Speyside</td>\n",
       "    </tr>\n",
       "    <tr>\n",
       "      <th>2</th>\n",
       "      <td>3</td>\n",
       "      <td>AnCnoc</td>\n",
       "      <td>1</td>\n",
       "      <td>3</td>\n",
       "      <td>2</td>\n",
       "      <td>0</td>\n",
       "      <td>0</td>\n",
       "      <td>2</td>\n",
       "      <td>0</td>\n",
       "      <td>0</td>\n",
       "      <td>2</td>\n",
       "      <td>2</td>\n",
       "      <td>3</td>\n",
       "      <td>2</td>\n",
       "      <td>\\tAB5 5LI</td>\n",
       "      <td>352960</td>\n",
       "      <td>839320</td>\n",
       "      <td>Highlands</td>\n",
       "    </tr>\n",
       "    <tr>\n",
       "      <th>3</th>\n",
       "      <td>4</td>\n",
       "      <td>Ardbeg</td>\n",
       "      <td>4</td>\n",
       "      <td>1</td>\n",
       "      <td>4</td>\n",
       "      <td>4</td>\n",
       "      <td>0</td>\n",
       "      <td>0</td>\n",
       "      <td>2</td>\n",
       "      <td>0</td>\n",
       "      <td>1</td>\n",
       "      <td>2</td>\n",
       "      <td>1</td>\n",
       "      <td>0</td>\n",
       "      <td>\\tPA42 7EB</td>\n",
       "      <td>141560</td>\n",
       "      <td>646220</td>\n",
       "      <td>Islay</td>\n",
       "    </tr>\n",
       "    <tr>\n",
       "      <th>4</th>\n",
       "      <td>5</td>\n",
       "      <td>Ardmore</td>\n",
       "      <td>2</td>\n",
       "      <td>2</td>\n",
       "      <td>2</td>\n",
       "      <td>0</td>\n",
       "      <td>0</td>\n",
       "      <td>1</td>\n",
       "      <td>1</td>\n",
       "      <td>1</td>\n",
       "      <td>2</td>\n",
       "      <td>3</td>\n",
       "      <td>1</td>\n",
       "      <td>1</td>\n",
       "      <td>\\tAB54 4NH</td>\n",
       "      <td>355350</td>\n",
       "      <td>829140</td>\n",
       "      <td>Highlands</td>\n",
       "    </tr>\n",
       "    <tr>\n",
       "      <th>5</th>\n",
       "      <td>6</td>\n",
       "      <td>ArranIsleOf</td>\n",
       "      <td>2</td>\n",
       "      <td>3</td>\n",
       "      <td>1</td>\n",
       "      <td>1</td>\n",
       "      <td>0</td>\n",
       "      <td>1</td>\n",
       "      <td>1</td>\n",
       "      <td>1</td>\n",
       "      <td>0</td>\n",
       "      <td>1</td>\n",
       "      <td>1</td>\n",
       "      <td>2</td>\n",
       "      <td>KA27 8HJ</td>\n",
       "      <td>194050</td>\n",
       "      <td>649950</td>\n",
       "      <td>Islands</td>\n",
       "    </tr>\n",
       "    <tr>\n",
       "      <th>6</th>\n",
       "      <td>7</td>\n",
       "      <td>Auchentoshan</td>\n",
       "      <td>0</td>\n",
       "      <td>2</td>\n",
       "      <td>0</td>\n",
       "      <td>0</td>\n",
       "      <td>0</td>\n",
       "      <td>1</td>\n",
       "      <td>1</td>\n",
       "      <td>0</td>\n",
       "      <td>2</td>\n",
       "      <td>2</td>\n",
       "      <td>3</td>\n",
       "      <td>3</td>\n",
       "      <td>G81 4SJ</td>\n",
       "      <td>247670</td>\n",
       "      <td>672610</td>\n",
       "      <td>Lowlands</td>\n",
       "    </tr>\n",
       "    <tr>\n",
       "      <th>7</th>\n",
       "      <td>8</td>\n",
       "      <td>Auchroisk</td>\n",
       "      <td>2</td>\n",
       "      <td>3</td>\n",
       "      <td>1</td>\n",
       "      <td>0</td>\n",
       "      <td>0</td>\n",
       "      <td>2</td>\n",
       "      <td>1</td>\n",
       "      <td>2</td>\n",
       "      <td>2</td>\n",
       "      <td>2</td>\n",
       "      <td>2</td>\n",
       "      <td>1</td>\n",
       "      <td>\\tAB55 3XS</td>\n",
       "      <td>340754</td>\n",
       "      <td>848623</td>\n",
       "      <td>Speyside</td>\n",
       "    </tr>\n",
       "    <tr>\n",
       "      <th>8</th>\n",
       "      <td>9</td>\n",
       "      <td>Aultmore</td>\n",
       "      <td>2</td>\n",
       "      <td>2</td>\n",
       "      <td>1</td>\n",
       "      <td>0</td>\n",
       "      <td>0</td>\n",
       "      <td>1</td>\n",
       "      <td>0</td>\n",
       "      <td>0</td>\n",
       "      <td>2</td>\n",
       "      <td>2</td>\n",
       "      <td>2</td>\n",
       "      <td>2</td>\n",
       "      <td>\\tAB55 3QY</td>\n",
       "      <td>340754</td>\n",
       "      <td>848623</td>\n",
       "      <td>Speyside</td>\n",
       "    </tr>\n",
       "    <tr>\n",
       "      <th>9</th>\n",
       "      <td>10</td>\n",
       "      <td>Balblair</td>\n",
       "      <td>2</td>\n",
       "      <td>3</td>\n",
       "      <td>2</td>\n",
       "      <td>1</td>\n",
       "      <td>0</td>\n",
       "      <td>0</td>\n",
       "      <td>2</td>\n",
       "      <td>0</td>\n",
       "      <td>2</td>\n",
       "      <td>1</td>\n",
       "      <td>2</td>\n",
       "      <td>1</td>\n",
       "      <td>\\tIV19 1LB</td>\n",
       "      <td>270820</td>\n",
       "      <td>885770</td>\n",
       "      <td>Highlands</td>\n",
       "    </tr>\n",
       "  </tbody>\n",
       "</table>\n",
       "</div>"
      ],
      "text/plain": [
       "   RowID    Distillery  Body  Sweetness  Smoky  Medicinal  Tobacco  Honey   \n",
       "0      1     Aberfeldy     2          2      2          0        0      2  \\\n",
       "1      2      Aberlour     3          3      1          0        0      4   \n",
       "2      3        AnCnoc     1          3      2          0        0      2   \n",
       "3      4        Ardbeg     4          1      4          4        0      0   \n",
       "4      5       Ardmore     2          2      2          0        0      1   \n",
       "5      6   ArranIsleOf     2          3      1          1        0      1   \n",
       "6      7  Auchentoshan     0          2      0          0        0      1   \n",
       "7      8     Auchroisk     2          3      1          0        0      2   \n",
       "8      9      Aultmore     2          2      1          0        0      1   \n",
       "9     10      Balblair     2          3      2          1        0      0   \n",
       "\n",
       "   Spicy  Winey  Nutty  Malty  Fruity  Floral     Postcode   Latitude   \n",
       "0      1      2      2      2       2       2   \\tPH15 2EB     286580  \\\n",
       "1      3      2      2      3       3       2   \\tAB38 9PJ     326340   \n",
       "2      0      0      2      2       3       2    \\tAB5 5LI     352960   \n",
       "3      2      0      1      2       1       0   \\tPA42 7EB     141560   \n",
       "4      1      1      2      3       1       1   \\tAB54 4NH     355350   \n",
       "5      1      1      0      1       1       2     KA27 8HJ     194050   \n",
       "6      1      0      2      2       3       3      G81 4SJ     247670   \n",
       "7      1      2      2      2       2       1   \\tAB55 3XS     340754   \n",
       "8      0      0      2      2       2       2   \\tAB55 3QY     340754   \n",
       "9      2      0      2      1       2       1   \\tIV19 1LB     270820   \n",
       "\n",
       "    Longitude     Region  \n",
       "0      749680  Highlands  \n",
       "1      842570   Speyside  \n",
       "2      839320  Highlands  \n",
       "3      646220      Islay  \n",
       "4      829140  Highlands  \n",
       "5      649950    Islands  \n",
       "6      672610   Lowlands  \n",
       "7      848623   Speyside  \n",
       "8      848623   Speyside  \n",
       "9      885770  Highlands  "
      ]
     },
     "execution_count": 26,
     "metadata": {},
     "output_type": "execute_result"
    }
   ],
   "source": [
    "whisky.iloc[0:10]"
   ]
  },
  {
   "cell_type": "code",
   "execution_count": 27,
   "id": "53031942",
   "metadata": {},
   "outputs": [
    {
     "data": {
      "text/html": [
       "<div>\n",
       "<style scoped>\n",
       "    .dataframe tbody tr th:only-of-type {\n",
       "        vertical-align: middle;\n",
       "    }\n",
       "\n",
       "    .dataframe tbody tr th {\n",
       "        vertical-align: top;\n",
       "    }\n",
       "\n",
       "    .dataframe thead th {\n",
       "        text-align: right;\n",
       "    }\n",
       "</style>\n",
       "<table border=\"1\" class=\"dataframe\">\n",
       "  <thead>\n",
       "    <tr style=\"text-align: right;\">\n",
       "      <th></th>\n",
       "      <th>RowID</th>\n",
       "      <th>Distillery</th>\n",
       "      <th>Body</th>\n",
       "      <th>Sweetness</th>\n",
       "      <th>Smoky</th>\n",
       "    </tr>\n",
       "  </thead>\n",
       "  <tbody>\n",
       "    <tr>\n",
       "      <th>5</th>\n",
       "      <td>6</td>\n",
       "      <td>ArranIsleOf</td>\n",
       "      <td>2</td>\n",
       "      <td>3</td>\n",
       "      <td>1</td>\n",
       "    </tr>\n",
       "    <tr>\n",
       "      <th>6</th>\n",
       "      <td>7</td>\n",
       "      <td>Auchentoshan</td>\n",
       "      <td>0</td>\n",
       "      <td>2</td>\n",
       "      <td>0</td>\n",
       "    </tr>\n",
       "    <tr>\n",
       "      <th>7</th>\n",
       "      <td>8</td>\n",
       "      <td>Auchroisk</td>\n",
       "      <td>2</td>\n",
       "      <td>3</td>\n",
       "      <td>1</td>\n",
       "    </tr>\n",
       "    <tr>\n",
       "      <th>8</th>\n",
       "      <td>9</td>\n",
       "      <td>Aultmore</td>\n",
       "      <td>2</td>\n",
       "      <td>2</td>\n",
       "      <td>1</td>\n",
       "    </tr>\n",
       "    <tr>\n",
       "      <th>9</th>\n",
       "      <td>10</td>\n",
       "      <td>Balblair</td>\n",
       "      <td>2</td>\n",
       "      <td>3</td>\n",
       "      <td>2</td>\n",
       "    </tr>\n",
       "  </tbody>\n",
       "</table>\n",
       "</div>"
      ],
      "text/plain": [
       "   RowID    Distillery  Body  Sweetness  Smoky\n",
       "5      6   ArranIsleOf     2          3      1\n",
       "6      7  Auchentoshan     0          2      0\n",
       "7      8     Auchroisk     2          3      1\n",
       "8      9      Aultmore     2          2      1\n",
       "9     10      Balblair     2          3      2"
      ]
     },
     "execution_count": 27,
     "metadata": {},
     "output_type": "execute_result"
    }
   ],
   "source": [
    "whisky.iloc[5:10,0:5]"
   ]
  },
  {
   "cell_type": "code",
   "execution_count": 28,
   "id": "e4c8ae37",
   "metadata": {},
   "outputs": [
    {
     "data": {
      "text/plain": [
       "Index(['RowID', 'Distillery', 'Body', 'Sweetness', 'Smoky', 'Medicinal',\n",
       "       'Tobacco', 'Honey', 'Spicy', 'Winey', 'Nutty', 'Malty', 'Fruity',\n",
       "       'Floral', 'Postcode', ' Latitude', ' Longitude', 'Region'],\n",
       "      dtype='object')"
      ]
     },
     "execution_count": 28,
     "metadata": {},
     "output_type": "execute_result"
    }
   ],
   "source": [
    "whisky.columns"
   ]
  },
  {
   "cell_type": "code",
   "execution_count": 29,
   "id": "72d7d517",
   "metadata": {},
   "outputs": [],
   "source": [
    "flavors=whisky.iloc[:,2:14]"
   ]
  },
  {
   "cell_type": "code",
   "execution_count": 30,
   "id": "8b0db467",
   "metadata": {},
   "outputs": [
    {
     "data": {
      "text/html": [
       "<div>\n",
       "<style scoped>\n",
       "    .dataframe tbody tr th:only-of-type {\n",
       "        vertical-align: middle;\n",
       "    }\n",
       "\n",
       "    .dataframe tbody tr th {\n",
       "        vertical-align: top;\n",
       "    }\n",
       "\n",
       "    .dataframe thead th {\n",
       "        text-align: right;\n",
       "    }\n",
       "</style>\n",
       "<table border=\"1\" class=\"dataframe\">\n",
       "  <thead>\n",
       "    <tr style=\"text-align: right;\">\n",
       "      <th></th>\n",
       "      <th>Body</th>\n",
       "      <th>Sweetness</th>\n",
       "      <th>Smoky</th>\n",
       "      <th>Medicinal</th>\n",
       "      <th>Tobacco</th>\n",
       "      <th>Honey</th>\n",
       "      <th>Spicy</th>\n",
       "      <th>Winey</th>\n",
       "      <th>Nutty</th>\n",
       "      <th>Malty</th>\n",
       "      <th>Fruity</th>\n",
       "      <th>Floral</th>\n",
       "    </tr>\n",
       "  </thead>\n",
       "  <tbody>\n",
       "    <tr>\n",
       "      <th>0</th>\n",
       "      <td>2</td>\n",
       "      <td>2</td>\n",
       "      <td>2</td>\n",
       "      <td>0</td>\n",
       "      <td>0</td>\n",
       "      <td>2</td>\n",
       "      <td>1</td>\n",
       "      <td>2</td>\n",
       "      <td>2</td>\n",
       "      <td>2</td>\n",
       "      <td>2</td>\n",
       "      <td>2</td>\n",
       "    </tr>\n",
       "    <tr>\n",
       "      <th>1</th>\n",
       "      <td>3</td>\n",
       "      <td>3</td>\n",
       "      <td>1</td>\n",
       "      <td>0</td>\n",
       "      <td>0</td>\n",
       "      <td>4</td>\n",
       "      <td>3</td>\n",
       "      <td>2</td>\n",
       "      <td>2</td>\n",
       "      <td>3</td>\n",
       "      <td>3</td>\n",
       "      <td>2</td>\n",
       "    </tr>\n",
       "    <tr>\n",
       "      <th>2</th>\n",
       "      <td>1</td>\n",
       "      <td>3</td>\n",
       "      <td>2</td>\n",
       "      <td>0</td>\n",
       "      <td>0</td>\n",
       "      <td>2</td>\n",
       "      <td>0</td>\n",
       "      <td>0</td>\n",
       "      <td>2</td>\n",
       "      <td>2</td>\n",
       "      <td>3</td>\n",
       "      <td>2</td>\n",
       "    </tr>\n",
       "    <tr>\n",
       "      <th>3</th>\n",
       "      <td>4</td>\n",
       "      <td>1</td>\n",
       "      <td>4</td>\n",
       "      <td>4</td>\n",
       "      <td>0</td>\n",
       "      <td>0</td>\n",
       "      <td>2</td>\n",
       "      <td>0</td>\n",
       "      <td>1</td>\n",
       "      <td>2</td>\n",
       "      <td>1</td>\n",
       "      <td>0</td>\n",
       "    </tr>\n",
       "    <tr>\n",
       "      <th>4</th>\n",
       "      <td>2</td>\n",
       "      <td>2</td>\n",
       "      <td>2</td>\n",
       "      <td>0</td>\n",
       "      <td>0</td>\n",
       "      <td>1</td>\n",
       "      <td>1</td>\n",
       "      <td>1</td>\n",
       "      <td>2</td>\n",
       "      <td>3</td>\n",
       "      <td>1</td>\n",
       "      <td>1</td>\n",
       "    </tr>\n",
       "    <tr>\n",
       "      <th>...</th>\n",
       "      <td>...</td>\n",
       "      <td>...</td>\n",
       "      <td>...</td>\n",
       "      <td>...</td>\n",
       "      <td>...</td>\n",
       "      <td>...</td>\n",
       "      <td>...</td>\n",
       "      <td>...</td>\n",
       "      <td>...</td>\n",
       "      <td>...</td>\n",
       "      <td>...</td>\n",
       "      <td>...</td>\n",
       "    </tr>\n",
       "    <tr>\n",
       "      <th>81</th>\n",
       "      <td>1</td>\n",
       "      <td>1</td>\n",
       "      <td>1</td>\n",
       "      <td>0</td>\n",
       "      <td>0</td>\n",
       "      <td>1</td>\n",
       "      <td>0</td>\n",
       "      <td>0</td>\n",
       "      <td>1</td>\n",
       "      <td>2</td>\n",
       "      <td>2</td>\n",
       "      <td>2</td>\n",
       "    </tr>\n",
       "    <tr>\n",
       "      <th>82</th>\n",
       "      <td>2</td>\n",
       "      <td>3</td>\n",
       "      <td>2</td>\n",
       "      <td>0</td>\n",
       "      <td>0</td>\n",
       "      <td>2</td>\n",
       "      <td>2</td>\n",
       "      <td>1</td>\n",
       "      <td>1</td>\n",
       "      <td>2</td>\n",
       "      <td>0</td>\n",
       "      <td>1</td>\n",
       "    </tr>\n",
       "    <tr>\n",
       "      <th>83</th>\n",
       "      <td>0</td>\n",
       "      <td>3</td>\n",
       "      <td>1</td>\n",
       "      <td>0</td>\n",
       "      <td>0</td>\n",
       "      <td>2</td>\n",
       "      <td>2</td>\n",
       "      <td>1</td>\n",
       "      <td>1</td>\n",
       "      <td>2</td>\n",
       "      <td>1</td>\n",
       "      <td>2</td>\n",
       "    </tr>\n",
       "    <tr>\n",
       "      <th>84</th>\n",
       "      <td>2</td>\n",
       "      <td>2</td>\n",
       "      <td>1</td>\n",
       "      <td>0</td>\n",
       "      <td>0</td>\n",
       "      <td>1</td>\n",
       "      <td>0</td>\n",
       "      <td>1</td>\n",
       "      <td>2</td>\n",
       "      <td>1</td>\n",
       "      <td>0</td>\n",
       "      <td>0</td>\n",
       "    </tr>\n",
       "    <tr>\n",
       "      <th>85</th>\n",
       "      <td>2</td>\n",
       "      <td>3</td>\n",
       "      <td>0</td>\n",
       "      <td>0</td>\n",
       "      <td>1</td>\n",
       "      <td>0</td>\n",
       "      <td>2</td>\n",
       "      <td>1</td>\n",
       "      <td>1</td>\n",
       "      <td>2</td>\n",
       "      <td>2</td>\n",
       "      <td>1</td>\n",
       "    </tr>\n",
       "  </tbody>\n",
       "</table>\n",
       "<p>86 rows × 12 columns</p>\n",
       "</div>"
      ],
      "text/plain": [
       "    Body  Sweetness  Smoky  Medicinal  Tobacco  Honey  Spicy  Winey  Nutty   \n",
       "0      2          2      2          0        0      2      1      2      2  \\\n",
       "1      3          3      1          0        0      4      3      2      2   \n",
       "2      1          3      2          0        0      2      0      0      2   \n",
       "3      4          1      4          4        0      0      2      0      1   \n",
       "4      2          2      2          0        0      1      1      1      2   \n",
       "..   ...        ...    ...        ...      ...    ...    ...    ...    ...   \n",
       "81     1          1      1          0        0      1      0      0      1   \n",
       "82     2          3      2          0        0      2      2      1      1   \n",
       "83     0          3      1          0        0      2      2      1      1   \n",
       "84     2          2      1          0        0      1      0      1      2   \n",
       "85     2          3      0          0        1      0      2      1      1   \n",
       "\n",
       "    Malty  Fruity  Floral  \n",
       "0       2       2       2  \n",
       "1       3       3       2  \n",
       "2       2       3       2  \n",
       "3       2       1       0  \n",
       "4       3       1       1  \n",
       "..    ...     ...     ...  \n",
       "81      2       2       2  \n",
       "82      2       0       1  \n",
       "83      2       1       2  \n",
       "84      1       0       0  \n",
       "85      2       2       1  \n",
       "\n",
       "[86 rows x 12 columns]"
      ]
     },
     "execution_count": 30,
     "metadata": {},
     "output_type": "execute_result"
    }
   ],
   "source": [
    "flavors"
   ]
  },
  {
   "cell_type": "markdown",
   "id": "c703b859",
   "metadata": {},
   "source": [
    "## Exploring Correlations"
   ]
  },
  {
   "cell_type": "code",
   "execution_count": 31,
   "id": "9ce24923",
   "metadata": {},
   "outputs": [],
   "source": [
    "corr_flavors=pd.DataFrame.corr(flavors)"
   ]
  },
  {
   "cell_type": "code",
   "execution_count": 32,
   "id": "6c633c38",
   "metadata": {},
   "outputs": [
    {
     "name": "stdout",
     "output_type": "stream",
     "text": [
      "               Body  Sweetness     Smoky  Medicinal   Tobacco     Honey   \n",
      "Body       1.000000  -0.136518  0.524032   0.354050  0.168718  0.082031  \\\n",
      "Sweetness -0.136518   1.000000 -0.405897  -0.392017 -0.147871  0.132558   \n",
      "Smoky      0.524032  -0.405897  1.000000   0.686071  0.365501 -0.195318   \n",
      "Medicinal  0.354050  -0.392017  0.686071   1.000000  0.425106 -0.396629   \n",
      "Tobacco    0.168718  -0.147871  0.365501   0.425106  1.000000 -0.275490   \n",
      "Honey      0.082031   0.132558 -0.195318  -0.396629 -0.275490  1.000000   \n",
      "Spicy      0.188500  -0.054200  0.231745   0.044903  0.054068  0.139563   \n",
      "Winey      0.408576   0.115727 -0.028190  -0.202651  0.009097  0.362021   \n",
      "Nutty      0.126323  -0.032493 -0.023132  -0.113671 -0.117717  0.188492   \n",
      "Malty     -0.116859  -0.001516 -0.192875  -0.258959 -0.059347  0.310184   \n",
      "Fruity    -0.013205   0.019820 -0.312970  -0.330975 -0.235145  0.108822   \n",
      "Floral    -0.461203   0.144987 -0.431663  -0.511323 -0.212375  0.183029   \n",
      "\n",
      "              Spicy     Winey     Nutty     Malty    Fruity    Floral  \n",
      "Body       0.188500  0.408576  0.126323 -0.116859 -0.013205 -0.461203  \n",
      "Sweetness -0.054200  0.115727 -0.032493 -0.001516  0.019820  0.144987  \n",
      "Smoky      0.231745 -0.028190 -0.023132 -0.192875 -0.312970 -0.431663  \n",
      "Medicinal  0.044903 -0.202651 -0.113671 -0.258959 -0.330975 -0.511323  \n",
      "Tobacco    0.054068  0.009097 -0.117717 -0.059347 -0.235145 -0.212375  \n",
      "Honey      0.139563  0.362021  0.188492  0.310184  0.108822  0.183029  \n",
      "Spicy      1.000000  0.092704 -0.042856  0.036303  0.144714  0.034663  \n",
      "Winey      0.092704  1.000000  0.198467  0.112368  0.090694 -0.126932  \n",
      "Nutty     -0.042856  0.198467  1.000000  0.066157  0.071765  0.018302  \n",
      "Malty      0.036303  0.112368  0.066157  1.000000  0.207288  0.106309  \n",
      "Fruity     0.144714  0.090694  0.071765  0.207288  1.000000  0.262336  \n",
      "Floral     0.034663 -0.126932  0.018302  0.106309  0.262336  1.000000  \n"
     ]
    }
   ],
   "source": [
    "print(corr_flavors)"
   ]
  },
  {
   "cell_type": "code",
   "execution_count": 33,
   "id": "feec7695",
   "metadata": {
    "scrolled": true
   },
   "outputs": [
    {
     "data": {
      "image/png": "[encoded data removed]",
      "text/plain": [
       "<Figure size 1000x1000 with 1 Axes>"
      ]
     },
     "metadata": {},
     "output_type": "display_data"
    }
   ],
   "source": [
    "plt.figure(figsize=(10,10))\n",
    "plt.pcolor(corr_flavors)\n",
    "plt.colorbar\n",
    "plt.savefig(\"corr_flavour.pdf\")"
   ]
  },
  {
   "cell_type": "code",
   "execution_count": 34,
   "id": "7cc83e63",
   "metadata": {
    "scrolled": true
   },
   "outputs": [
    {
     "data": {
      "image/png": "[encoded data removed]",
      "text/plain": [
       "<Figure size 1000x1000 with 1 Axes>"
      ]
     },
     "metadata": {},
     "output_type": "display_data"
    }
   ],
   "source": [
    "corr_whisky=pd.DataFrame.corr(flavors.transpose())\n",
    "plt.figure(figsize=(10,10))\n",
    "plt.pcolor(corr_whisky)\n",
    "plt.axis(\"tight\")\n",
    "plt.colorbar\n",
    "plt.savefig(\"corr_whisky.pdf\")"
   ]
  },
  {
   "cell_type": "markdown",
   "id": "56df14e3",
   "metadata": {},
   "source": [
    "## Clustering Whiskies By Flavor Profile"
   ]
  },
  {
   "cell_type": "code",
   "execution_count": 36,
   "id": "dca452b1",
   "metadata": {},
   "outputs": [],
   "source": [
    "from sklearn.cluster import SpectralCoclustering"
   ]
  },
  {
   "cell_type": "code",
   "execution_count": 37,
   "id": "5ee8beea",
   "metadata": {},
   "outputs": [],
   "source": [
    "model=SpectralCoclustering(n_clusters=6, random_state=0)"
   ]
  },
  {
   "cell_type": "code",
   "execution_count": 38,
   "id": "64889f6e",
   "metadata": {},
   "outputs": [
    {
     "data": {
      "text/html": [
       "<style>#sk-container-id-1 {color: black;}#sk-container-id-1 pre{padding: 0;}#sk-container-id-1 div.sk-toggleable {background-color: white;}#sk-container-id-1 label.sk-toggleable__label {cursor: pointer;display: block;width: 100%;margin-bottom: 0;padding: 0.3em;box-sizing: border-box;text-align: center;}#sk-container-id-1 label.sk-toggleable__label-arrow:before {content: \"▸\";float: left;margin-right: 0.25em;color: #696969;}#sk-container-id-1 label.sk-toggleable__label-arrow:hover:before {color: black;}#sk-container-id-1 div.sk-estimator:hover label.sk-toggleable__label-arrow:before {color: black;}#sk-container-id-1 div.sk-toggleable__content {max-height: 0;max-width: 0;overflow: hidden;text-align: left;background-color: #f0f8ff;}#sk-container-id-1 div.sk-toggleable__content pre {margin: 0.2em;color: black;border-radius: 0.25em;background-color: #f0f8ff;}#sk-container-id-1 input.sk-toggleable__control:checked~div.sk-toggleable__content {max-height: 200px;max-width: 100%;overflow: auto;}#sk-container-id-1 input.sk-toggleable__control:checked~label.sk-toggleable__label-arrow:before {content: \"▾\";}#sk-container-id-1 div.sk-estimator input.sk-toggleable__control:checked~label.sk-toggleable__label {background-color: #d4ebff;}#sk-container-id-1 div.sk-label input.sk-toggleable__control:checked~label.sk-toggleable__label {background-color: #d4ebff;}#sk-container-id-1 input.sk-hidden--visually {border: 0;clip: rect(1px 1px 1px 1px);clip: rect(1px, 1px, 1px, 1px);height: 1px;margin: -1px;overflow: hidden;padding: 0;position: absolute;width: 1px;}#sk-container-id-1 div.sk-estimator {font-family: monospace;background-color: #f0f8ff;border: 1px dotted black;border-radius: 0.25em;box-sizing: border-box;margin-bottom: 0.5em;}#sk-container-id-1 div.sk-estimator:hover {background-color: #d4ebff;}#sk-container-id-1 div.sk-parallel-item::after {content: \"\";width: 100%;border-bottom: 1px solid gray;flex-grow: 1;}#sk-container-id-1 div.sk-label:hover label.sk-toggleable__label {background-color: #d4ebff;}#sk-container-id-1 div.sk-serial::before {content: \"\";position: absolute;border-left: 1px solid gray;box-sizing: border-box;top: 0;bottom: 0;left: 50%;z-index: 0;}#sk-container-id-1 div.sk-serial {display: flex;flex-direction: column;align-items: center;background-color: white;padding-right: 0.2em;padding-left: 0.2em;position: relative;}#sk-container-id-1 div.sk-item {position: relative;z-index: 1;}#sk-container-id-1 div.sk-parallel {display: flex;align-items: stretch;justify-content: center;background-color: white;position: relative;}#sk-container-id-1 div.sk-item::before, #sk-container-id-1 div.sk-parallel-item::before {content: \"\";position: absolute;border-left: 1px solid gray;box-sizing: border-box;top: 0;bottom: 0;left: 50%;z-index: -1;}#sk-container-id-1 div.sk-parallel-item {display: flex;flex-direction: column;z-index: 1;position: relative;background-color: white;}#sk-container-id-1 div.sk-parallel-item:first-child::after {align-self: flex-end;width: 50%;}#sk-container-id-1 div.sk-parallel-item:last-child::after {align-self: flex-start;width: 50%;}#sk-container-id-1 div.sk-parallel-item:only-child::after {width: 0;}#sk-container-id-1 div.sk-dashed-wrapped {border: 1px dashed gray;margin: 0 0.4em 0.5em 0.4em;box-sizing: border-box;padding-bottom: 0.4em;background-color: white;}#sk-container-id-1 div.sk-label label {font-family: monospace;font-weight: bold;display: inline-block;line-height: 1.2em;}#sk-container-id-1 div.sk-label-container {text-align: center;}#sk-container-id-1 div.sk-container {/* jupyter's `normalize.less` sets `[hidden] { display: none; }` but bootstrap.min.css set `[hidden] { display: none !important; }` so we also need the `!important` here to be able to override the default hidden behavior on the sphinx rendered scikit-learn.org. See: https://github.com/scikit-learn/scikit-learn/issues/21755 */display: inline-block !important;position: relative;}#sk-container-id-1 div.sk-text-repr-fallback {display: none;}</style><div id=\"sk-container-id-1\" class=\"sk-top-container\"><div class=\"sk-text-repr-fallback\"><pre>SpectralCoclustering(n_clusters=6, random_state=0)</pre><b>In a Jupyter environment, please rerun this cell to show the HTML representation or trust the notebook. <br />On GitHub, the HTML representation is unable to render, please try loading this page with nbviewer.org.</b></div><div class=\"sk-container\" hidden><div class=\"sk-item\"><div class=\"sk-estimator sk-toggleable\"><input class=\"sk-toggleable__control sk-hidden--visually\" id=\"sk-estimator-id-1\" type=\"checkbox\" checked><label for=\"sk-estimator-id-1\" class=\"sk-toggleable__label sk-toggleable__label-arrow\">SpectralCoclustering</label><div class=\"sk-toggleable__content\"><pre>SpectralCoclustering(n_clusters=6, random_state=0)</pre></div></div></div></div></div>"
      ],
      "text/plain": [
       "SpectralCoclustering(n_clusters=6, random_state=0)"
      ]
     },
     "execution_count": 38,
     "metadata": {},
     "output_type": "execute_result"
    }
   ],
   "source": [
    "model.fit(corr_whisky)"
   ]
  },
  {
   "cell_type": "code",
   "execution_count": 40,
   "id": "e9c67ccb",
   "metadata": {},
   "outputs": [
    {
     "data": {
      "text/plain": [
       "array([[False, False, False, False, False,  True, False, False, False,\n",
       "        False, False,  True, False,  True, False, False, False, False,\n",
       "         True, False, False, False, False, False, False, False, False,\n",
       "        False, False, False, False, False,  True,  True,  True, False,\n",
       "        False, False,  True, False,  True, False, False, False, False,\n",
       "        False, False,  True,  True, False, False, False, False, False,\n",
       "         True, False, False, False, False,  True, False, False, False,\n",
       "        False, False, False, False, False, False,  True, False, False,\n",
       "         True, False, False, False, False, False, False, False,  True,\n",
       "        False,  True,  True, False,  True],\n",
       "       [False, False, False, False, False, False, False, False, False,\n",
       "        False, False, False, False, False, False, False, False, False,\n",
       "        False,  True, False, False, False, False, False, False, False,\n",
       "        False, False, False, False, False, False, False, False, False,\n",
       "        False, False, False,  True, False, False, False, False, False,\n",
       "        False, False, False, False, False, False, False, False, False,\n",
       "        False,  True, False, False, False, False, False, False, False,\n",
       "        False, False, False,  True, False,  True, False, False, False,\n",
       "        False, False, False, False, False, False, False, False, False,\n",
       "        False, False, False, False, False],\n",
       "       [ True,  True, False, False,  True, False, False,  True, False,\n",
       "        False,  True, False,  True, False, False, False, False,  True,\n",
       "        False, False, False, False, False, False, False, False,  True,\n",
       "         True, False,  True, False, False, False, False, False, False,\n",
       "         True, False, False, False, False, False,  True,  True,  True,\n",
       "        False, False, False, False, False, False,  True,  True,  True,\n",
       "        False, False,  True, False, False, False, False, False,  True,\n",
       "        False, False,  True, False,  True, False, False,  True, False,\n",
       "        False, False,  True, False, False, False, False, False, False,\n",
       "        False, False, False,  True, False],\n",
       "       [False, False, False, False, False, False,  True, False, False,\n",
       "         True, False, False, False, False, False, False,  True, False,\n",
       "        False, False,  True, False,  True, False,  True,  True, False,\n",
       "        False,  True, False,  True, False, False, False, False, False,\n",
       "        False,  True, False, False, False,  True, False, False, False,\n",
       "         True, False, False, False,  True,  True, False, False, False,\n",
       "        False, False, False, False, False, False,  True, False, False,\n",
       "        False,  True, False, False, False, False, False, False, False,\n",
       "        False, False, False, False,  True, False, False,  True, False,\n",
       "        False, False, False, False, False],\n",
       "       [False, False,  True, False, False, False, False, False,  True,\n",
       "        False, False, False, False, False,  True,  True, False, False,\n",
       "        False, False, False, False, False, False, False, False, False,\n",
       "        False, False, False, False,  True, False, False, False,  True,\n",
       "        False, False, False, False, False, False, False, False, False,\n",
       "        False,  True, False, False, False, False, False, False, False,\n",
       "        False, False, False, False, False, False, False,  True, False,\n",
       "         True, False, False, False, False, False, False, False,  True,\n",
       "        False,  True, False,  True, False, False,  True, False, False,\n",
       "         True, False, False, False, False],\n",
       "       [False, False, False,  True, False, False, False, False, False,\n",
       "        False, False, False, False, False, False, False, False, False,\n",
       "        False, False, False,  True, False,  True, False, False, False,\n",
       "        False, False, False, False, False, False, False, False, False,\n",
       "        False, False, False, False, False, False, False, False, False,\n",
       "        False, False, False, False, False, False, False, False, False,\n",
       "        False, False, False,  True,  True, False, False, False, False,\n",
       "        False, False, False, False, False, False, False, False, False,\n",
       "        False, False, False, False, False,  True, False, False, False,\n",
       "        False, False, False, False, False]])"
      ]
     },
     "execution_count": 40,
     "metadata": {},
     "output_type": "execute_result"
    }
   ],
   "source": [
    "model.rows_"
   ]
  },
  {
   "cell_type": "code",
   "execution_count": 42,
   "id": "e09c11f2",
   "metadata": {},
   "outputs": [
    {
     "data": {
      "text/plain": [
       "array([19,  5, 24, 18, 14,  6])"
      ]
     },
     "execution_count": 42,
     "metadata": {},
     "output_type": "execute_result"
    }
   ],
   "source": [
    "np.sum(model.rows_,axis=1)"
   ]
  },
  {
   "cell_type": "code",
   "execution_count": 43,
   "id": "399c2f29",
   "metadata": {},
   "outputs": [
    {
     "data": {
      "text/plain": [
       "array([1, 1, 1, 1, 1, 1, 1, 1, 1, 1, 1, 1, 1, 1, 1, 1, 1, 1, 1, 1, 1, 1,\n",
       "       1, 1, 1, 1, 1, 1, 1, 1, 1, 1, 1, 1, 1, 1, 1, 1, 1, 1, 1, 1, 1, 1,\n",
       "       1, 1, 1, 1, 1, 1, 1, 1, 1, 1, 1, 1, 1, 1, 1, 1, 1, 1, 1, 1, 1, 1,\n",
       "       1, 1, 1, 1, 1, 1, 1, 1, 1, 1, 1, 1, 1, 1, 1, 1, 1, 1, 1, 1])"
      ]
     },
     "execution_count": 43,
     "metadata": {},
     "output_type": "execute_result"
    }
   ],
   "source": [
    "np.sum(model.rows_,axis=0)"
   ]
  },
  {
   "cell_type": "code",
   "execution_count": 45,
   "id": "9e38f30f",
   "metadata": {},
   "outputs": [
    {
     "data": {
      "text/plain": [
       "array([2, 2, 4, 5, 2, 0, 3, 2, 4, 3, 2, 0, 2, 0, 4, 4, 3, 2, 0, 1, 3, 5,\n",
       "       3, 5, 3, 3, 2, 2, 3, 2, 3, 4, 0, 0, 0, 4, 2, 3, 0, 1, 0, 3, 2, 2,\n",
       "       2, 3, 4, 0, 0, 3, 3, 2, 2, 2, 0, 1, 2, 5, 5, 0, 3, 4, 2, 4, 3, 2,\n",
       "       1, 2, 1, 0, 2, 4, 0, 4, 2, 4, 3, 5, 4, 3, 0, 4, 0, 0, 2, 0],\n",
       "      dtype=int32)"
      ]
     },
     "execution_count": 45,
     "metadata": {},
     "output_type": "execute_result"
    }
   ],
   "source": [
    "model.row_labels_"
   ]
  },
  {
   "cell_type": "markdown",
   "id": "576357cb",
   "metadata": {},
   "source": [
    "## Comparing Correlation Matrices"
   ]
  },
  {
   "cell_type": "code",
   "execution_count": 46,
   "id": "39bcc0fd",
   "metadata": {},
   "outputs": [],
   "source": [
    "whisky['Group']=pd.Series(model.row_labels_,index=whisky.index)"
   ]
  },
  {
   "cell_type": "code",
   "execution_count": 47,
   "id": "c649e317",
   "metadata": {},
   "outputs": [],
   "source": [
    "whisky=whisky.iloc[np.argsort(model.row_labels_)]"
   ]
  },
  {
   "cell_type": "code",
   "execution_count": 48,
   "id": "feed06c6",
   "metadata": {},
   "outputs": [],
   "source": [
    "whisky=whisky.reset_index(drop=True)"
   ]
  },
  {
   "cell_type": "code",
   "execution_count": 49,
   "id": "3174a6bb",
   "metadata": {},
   "outputs": [],
   "source": [
    "correlations=pd.DataFrame.corr(whisky.iloc[:,2:14].transpose())"
   ]
  },
  {
   "cell_type": "code",
   "execution_count": 50,
   "id": "77e47205",
   "metadata": {},
   "outputs": [],
   "source": [
    "correlations=np.array(correlations)"
   ]
  },
  {
   "cell_type": "code",
   "execution_count": 51,
   "id": "a21e64b3",
   "metadata": {},
   "outputs": [
    {
     "data": {
      "image/png": "[encoded data removed]",
      "text/plain": [
       "<Figure size 1400x700 with 2 Axes>"
      ]
     },
     "metadata": {},
     "output_type": "display_data"
    }
   ],
   "source": [
    "plt.figure(figsize=(14,7))\n",
    "plt.subplot(121)\n",
    "plt.pcolor(corr_whisky)\n",
    "plt.title(\"Original\")\n",
    "plt.axis(\"tight\")\n",
    "plt.subplot(122)\n",
    "plt.pcolor(correlations)\n",
    "plt.title(\"Rearranged\")\n",
    "plt.axis(\"tight\")\n",
    "plt.savefig(\"correlations.pdf\")"
   ]
  },
  {
   "cell_type": "markdown",
   "id": "35282900",
   "metadata": {},
   "source": [
    "## Exercise"
   ]
  },
  {
   "cell_type": "code",
   "execution_count": 53,
   "id": "f85fac2d",
   "metadata": {},
   "outputs": [],
   "source": [
    "data = pd.Series([1,2,3,4])\n",
    "data = data.iloc[[3,0,1,2]]"
   ]
  },
  {
   "cell_type": "code",
   "execution_count": 54,
   "id": "7a255bfa",
   "metadata": {},
   "outputs": [
    {
     "data": {
      "text/plain": [
       "1"
      ]
     },
     "execution_count": 54,
     "metadata": {},
     "output_type": "execute_result"
    }
   ],
   "source": [
    "data[0]"
   ]
  },
  {
   "cell_type": "code",
   "execution_count": 56,
   "id": "2c648fbb",
   "metadata": {},
   "outputs": [],
   "source": [
    "data = pd.Series([1,2,3,4])\n",
    "data = data.iloc[[3,0,1,2]]\n",
    "data = data.reset_index(drop=True)"
   ]
  },
  {
   "cell_type": "code",
   "execution_count": 57,
   "id": "75c3edf2",
   "metadata": {},
   "outputs": [
    {
     "data": {
      "text/plain": [
       "4"
      ]
     },
     "execution_count": 57,
     "metadata": {},
     "output_type": "execute_result"
    }
   ],
   "source": [
    "data[0]"
   ]
  },
  {
   "cell_type": "code",
   "execution_count": null,
   "id": "3fa8aece",
   "metadata": {},
   "outputs": [],
   "source": []
  }
 ],
 "metadata": {
  "kernelspec": {
   "display_name": "Python 3 (ipykernel)",
   "language": "python",
   "name": "python3"
  },
  "language_info": {
   "codemirror_mode": {
    "name": "ipython",
    "version": 3
   },
   "file_extension": ".py",
   "mimetype": "text/x-python",
   "name": "python",
   "nbconvert_exporter": "python",
   "pygments_lexer": "ipython3",
   "version": "3.9.6"
  }
 },
 "nbformat": 4,
 "nbformat_minor": 5
}
